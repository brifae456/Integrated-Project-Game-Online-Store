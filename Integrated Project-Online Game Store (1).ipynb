{
 "cells": [
  {
   "cell_type": "markdown",
   "metadata": {},
   "source": [
    "# Integrated Project 1\n"
   ]
  },
  {
   "cell_type": "markdown",
   "metadata": {},
   "source": [
    "Working at a online store Ice, that sells video games all over the world. To better identify patterns that help determine whether a game succeeds or not utilize user and expert reviews, genres, platforms (e.g. Xbox or PlayStation), and historical data on game sales are available from open sources. This will allow to spot potential big winners and plan advertising campaigns in certain regional areas. Reimagining it is 2016, use the data given to get an idea on how toplan a campaign for 2017."
   ]
  },
  {
   "cell_type": "code",
   "execution_count": 1,
   "metadata": {},
   "outputs": [],
   "source": [
    "# Importing Libraries\n",
    "import pandas as pd\n",
    "import numpy as np\n",
    "from matplotlib import pyplot as plt\n",
    "import scipy.stats as st"
   ]
  },
  {
   "cell_type": "code",
   "execution_count": 2,
   "metadata": {},
   "outputs": [],
   "source": [
    "# Import Dataset\n",
    "df=pd.read_csv('/datasets/games.csv')"
   ]
  },
  {
   "cell_type": "code",
   "execution_count": 3,
   "metadata": {},
   "outputs": [
    {
     "name": "stdout",
     "output_type": "stream",
     "text": [
      "<class 'pandas.core.frame.DataFrame'>\n",
      "RangeIndex: 16715 entries, 0 to 16714\n",
      "Data columns (total 11 columns):\n",
      " #   Column           Non-Null Count  Dtype  \n",
      "---  ------           --------------  -----  \n",
      " 0   Name             16713 non-null  object \n",
      " 1   Platform         16715 non-null  object \n",
      " 2   Year_of_Release  16446 non-null  float64\n",
      " 3   Genre            16713 non-null  object \n",
      " 4   NA_sales         16715 non-null  float64\n",
      " 5   EU_sales         16715 non-null  float64\n",
      " 6   JP_sales         16715 non-null  float64\n",
      " 7   Other_sales      16715 non-null  float64\n",
      " 8   Critic_Score     8137 non-null   float64\n",
      " 9   User_Score       10014 non-null  object \n",
      " 10  Rating           9949 non-null   object \n",
      "dtypes: float64(6), object(5)\n",
      "memory usage: 1.4+ MB\n"
     ]
    },
    {
     "data": {
      "text/html": [
       "<div>\n",
       "<style scoped>\n",
       "    .dataframe tbody tr th:only-of-type {\n",
       "        vertical-align: middle;\n",
       "    }\n",
       "\n",
       "    .dataframe tbody tr th {\n",
       "        vertical-align: top;\n",
       "    }\n",
       "\n",
       "    .dataframe thead th {\n",
       "        text-align: right;\n",
       "    }\n",
       "</style>\n",
       "<table border=\"1\" class=\"dataframe\">\n",
       "  <thead>\n",
       "    <tr style=\"text-align: right;\">\n",
       "      <th></th>\n",
       "      <th>Name</th>\n",
       "      <th>Platform</th>\n",
       "      <th>Year_of_Release</th>\n",
       "      <th>Genre</th>\n",
       "      <th>NA_sales</th>\n",
       "      <th>EU_sales</th>\n",
       "      <th>JP_sales</th>\n",
       "      <th>Other_sales</th>\n",
       "      <th>Critic_Score</th>\n",
       "      <th>User_Score</th>\n",
       "      <th>Rating</th>\n",
       "    </tr>\n",
       "  </thead>\n",
       "  <tbody>\n",
       "    <tr>\n",
       "      <th>0</th>\n",
       "      <td>Wii Sports</td>\n",
       "      <td>Wii</td>\n",
       "      <td>2006.0</td>\n",
       "      <td>Sports</td>\n",
       "      <td>41.36</td>\n",
       "      <td>28.96</td>\n",
       "      <td>3.77</td>\n",
       "      <td>8.45</td>\n",
       "      <td>76.0</td>\n",
       "      <td>8</td>\n",
       "      <td>E</td>\n",
       "    </tr>\n",
       "    <tr>\n",
       "      <th>1</th>\n",
       "      <td>Super Mario Bros.</td>\n",
       "      <td>NES</td>\n",
       "      <td>1985.0</td>\n",
       "      <td>Platform</td>\n",
       "      <td>29.08</td>\n",
       "      <td>3.58</td>\n",
       "      <td>6.81</td>\n",
       "      <td>0.77</td>\n",
       "      <td>NaN</td>\n",
       "      <td>NaN</td>\n",
       "      <td>NaN</td>\n",
       "    </tr>\n",
       "    <tr>\n",
       "      <th>2</th>\n",
       "      <td>Mario Kart Wii</td>\n",
       "      <td>Wii</td>\n",
       "      <td>2008.0</td>\n",
       "      <td>Racing</td>\n",
       "      <td>15.68</td>\n",
       "      <td>12.76</td>\n",
       "      <td>3.79</td>\n",
       "      <td>3.29</td>\n",
       "      <td>82.0</td>\n",
       "      <td>8.3</td>\n",
       "      <td>E</td>\n",
       "    </tr>\n",
       "    <tr>\n",
       "      <th>3</th>\n",
       "      <td>Wii Sports Resort</td>\n",
       "      <td>Wii</td>\n",
       "      <td>2009.0</td>\n",
       "      <td>Sports</td>\n",
       "      <td>15.61</td>\n",
       "      <td>10.93</td>\n",
       "      <td>3.28</td>\n",
       "      <td>2.95</td>\n",
       "      <td>80.0</td>\n",
       "      <td>8</td>\n",
       "      <td>E</td>\n",
       "    </tr>\n",
       "    <tr>\n",
       "      <th>4</th>\n",
       "      <td>Pokemon Red/Pokemon Blue</td>\n",
       "      <td>GB</td>\n",
       "      <td>1996.0</td>\n",
       "      <td>Role-Playing</td>\n",
       "      <td>11.27</td>\n",
       "      <td>8.89</td>\n",
       "      <td>10.22</td>\n",
       "      <td>1.00</td>\n",
       "      <td>NaN</td>\n",
       "      <td>NaN</td>\n",
       "      <td>NaN</td>\n",
       "    </tr>\n",
       "  </tbody>\n",
       "</table>\n",
       "</div>"
      ],
      "text/plain": [
       "                       Name Platform  Year_of_Release         Genre  NA_sales  \\\n",
       "0                Wii Sports      Wii           2006.0        Sports     41.36   \n",
       "1         Super Mario Bros.      NES           1985.0      Platform     29.08   \n",
       "2            Mario Kart Wii      Wii           2008.0        Racing     15.68   \n",
       "3         Wii Sports Resort      Wii           2009.0        Sports     15.61   \n",
       "4  Pokemon Red/Pokemon Blue       GB           1996.0  Role-Playing     11.27   \n",
       "\n",
       "   EU_sales  JP_sales  Other_sales  Critic_Score User_Score Rating  \n",
       "0     28.96      3.77         8.45          76.0          8      E  \n",
       "1      3.58      6.81         0.77           NaN        NaN    NaN  \n",
       "2     12.76      3.79         3.29          82.0        8.3      E  \n",
       "3     10.93      3.28         2.95          80.0          8      E  \n",
       "4      8.89     10.22         1.00           NaN        NaN    NaN  "
      ]
     },
     "execution_count": 3,
     "metadata": {},
     "output_type": "execute_result"
    }
   ],
   "source": [
    "# Look at general information of the dataset, null lines\n",
    "df.info()\n",
    "# Look at first few lines and how columns are laid out\n",
    "df.head(5)"
   ]
  },
  {
   "cell_type": "markdown",
   "metadata": {},
   "source": [
    "Replacing column names to lower case\n",
    "df.rename(columns=str.lower, inplace=True)\n",
    "print(df.columns)"
   ]
  },
  {
   "cell_type": "markdown",
   "metadata": {},
   "source": [
    "Replace missing values, will start with \"year_of_release\" and will drop the null values as well as convert the data type to help with analysis later on."
   ]
  },
  {
   "cell_type": "code",
   "execution_count": 4,
   "metadata": {},
   "outputs": [
    {
     "name": "stdout",
     "output_type": "stream",
     "text": [
      "Index(['name', 'platform', 'year_of_release', 'genre', 'na_sales', 'eu_sales',\n",
      "       'jp_sales', 'other_sales', 'critic_score', 'user_score', 'rating'],\n",
      "      dtype='object')\n"
     ]
    }
   ],
   "source": [
    "# Rename columns so they are all lowercase\n",
    "df.rename(columns=str.lower, inplace=True)\n",
    "print(df.columns)"
   ]
  },
  {
   "cell_type": "code",
   "execution_count": 5,
   "metadata": {},
   "outputs": [
    {
     "name": "stdout",
     "output_type": "stream",
     "text": [
      "<class 'pandas.core.frame.DataFrame'>\n",
      "Int64Index: 16446 entries, 0 to 16714\n",
      "Data columns (total 11 columns):\n",
      " #   Column           Non-Null Count  Dtype  \n",
      "---  ------           --------------  -----  \n",
      " 0   name             16444 non-null  object \n",
      " 1   platform         16446 non-null  object \n",
      " 2   year_of_release  16446 non-null  int64  \n",
      " 3   genre            16444 non-null  object \n",
      " 4   na_sales         16446 non-null  float64\n",
      " 5   eu_sales         16446 non-null  float64\n",
      " 6   jp_sales         16446 non-null  float64\n",
      " 7   other_sales      16446 non-null  float64\n",
      " 8   critic_score     7983 non-null   float64\n",
      " 9   user_score       9839 non-null   object \n",
      " 10  rating           9768 non-null   object \n",
      "dtypes: float64(5), int64(1), object(5)\n",
      "memory usage: 1.5+ MB\n",
      "None\n"
     ]
    }
   ],
   "source": [
    "# Drop the null values\n",
    "df.dropna(subset=['year_of_release'], inplace=True)\n",
    "\n",
    "# Convert the column to date-time data type\n",
    "df['year_of_release'] = pd.to_datetime(df['year_of_release'], format='%Y')\n",
    "df['year_of_release'] = df['year_of_release'].dt.year.astype(int)\n",
    "\n",
    "print(df.info())"
   ]
  },
  {
   "cell_type": "code",
   "execution_count": 6,
   "metadata": {},
   "outputs": [
    {
     "data": {
      "text/html": [
       "<div>\n",
       "<style scoped>\n",
       "    .dataframe tbody tr th:only-of-type {\n",
       "        vertical-align: middle;\n",
       "    }\n",
       "\n",
       "    .dataframe tbody tr th {\n",
       "        vertical-align: top;\n",
       "    }\n",
       "\n",
       "    .dataframe thead th {\n",
       "        text-align: right;\n",
       "    }\n",
       "</style>\n",
       "<table border=\"1\" class=\"dataframe\">\n",
       "  <thead>\n",
       "    <tr style=\"text-align: right;\">\n",
       "      <th></th>\n",
       "      <th>name</th>\n",
       "      <th>platform</th>\n",
       "      <th>year_of_release</th>\n",
       "      <th>genre</th>\n",
       "      <th>na_sales</th>\n",
       "      <th>eu_sales</th>\n",
       "      <th>jp_sales</th>\n",
       "      <th>other_sales</th>\n",
       "      <th>critic_score</th>\n",
       "      <th>user_score</th>\n",
       "      <th>rating</th>\n",
       "    </tr>\n",
       "  </thead>\n",
       "  <tbody>\n",
       "    <tr>\n",
       "      <th>4585</th>\n",
       "      <td>Trials Fusion</td>\n",
       "      <td>PS4</td>\n",
       "      <td>2014</td>\n",
       "      <td>Racing</td>\n",
       "      <td>0.13</td>\n",
       "      <td>0.22</td>\n",
       "      <td>0.01</td>\n",
       "      <td>0.07</td>\n",
       "      <td>79.0</td>\n",
       "      <td>7.2</td>\n",
       "      <td>E10+</td>\n",
       "    </tr>\n",
       "    <tr>\n",
       "      <th>6113</th>\n",
       "      <td>Divinity: Original Sin</td>\n",
       "      <td>PS4</td>\n",
       "      <td>2015</td>\n",
       "      <td>Role-Playing</td>\n",
       "      <td>0.10</td>\n",
       "      <td>0.12</td>\n",
       "      <td>0.02</td>\n",
       "      <td>0.04</td>\n",
       "      <td>NaN</td>\n",
       "      <td>NaN</td>\n",
       "      <td>NaN</td>\n",
       "    </tr>\n",
       "    <tr>\n",
       "      <th>3433</th>\n",
       "      <td>Q*bert</td>\n",
       "      <td>2600</td>\n",
       "      <td>1982</td>\n",
       "      <td>Puzzle</td>\n",
       "      <td>0.55</td>\n",
       "      <td>0.03</td>\n",
       "      <td>0.00</td>\n",
       "      <td>0.01</td>\n",
       "      <td>NaN</td>\n",
       "      <td>NaN</td>\n",
       "      <td>NaN</td>\n",
       "    </tr>\n",
       "    <tr>\n",
       "      <th>2800</th>\n",
       "      <td>Croc 2</td>\n",
       "      <td>PS</td>\n",
       "      <td>1999</td>\n",
       "      <td>Platform</td>\n",
       "      <td>0.41</td>\n",
       "      <td>0.28</td>\n",
       "      <td>0.00</td>\n",
       "      <td>0.05</td>\n",
       "      <td>NaN</td>\n",
       "      <td>NaN</td>\n",
       "      <td>NaN</td>\n",
       "    </tr>\n",
       "    <tr>\n",
       "      <th>6232</th>\n",
       "      <td>Avatar: The Last Airbender</td>\n",
       "      <td>Wii</td>\n",
       "      <td>2006</td>\n",
       "      <td>Adventure</td>\n",
       "      <td>0.23</td>\n",
       "      <td>0.02</td>\n",
       "      <td>0.00</td>\n",
       "      <td>0.02</td>\n",
       "      <td>56.0</td>\n",
       "      <td>5.8</td>\n",
       "      <td>E10+</td>\n",
       "    </tr>\n",
       "  </tbody>\n",
       "</table>\n",
       "</div>"
      ],
      "text/plain": [
       "                            name platform  year_of_release         genre  \\\n",
       "4585               Trials Fusion      PS4             2014        Racing   \n",
       "6113      Divinity: Original Sin      PS4             2015  Role-Playing   \n",
       "3433                      Q*bert     2600             1982        Puzzle   \n",
       "2800                      Croc 2       PS             1999      Platform   \n",
       "6232  Avatar: The Last Airbender      Wii             2006     Adventure   \n",
       "\n",
       "      na_sales  eu_sales  jp_sales  other_sales  critic_score user_score  \\\n",
       "4585      0.13      0.22      0.01         0.07          79.0        7.2   \n",
       "6113      0.10      0.12      0.02         0.04           NaN        NaN   \n",
       "3433      0.55      0.03      0.00         0.01           NaN        NaN   \n",
       "2800      0.41      0.28      0.00         0.05           NaN        NaN   \n",
       "6232      0.23      0.02      0.00         0.02          56.0        5.8   \n",
       "\n",
       "     rating  \n",
       "4585   E10+  \n",
       "6113    NaN  \n",
       "3433    NaN  \n",
       "2800    NaN  \n",
       "6232   E10+  "
      ]
     },
     "metadata": {},
     "output_type": "display_data"
    },
    {
     "name": "stdout",
     "output_type": "stream",
     "text": [
      "<class 'pandas.core.frame.DataFrame'>\n",
      "Int64Index: 16444 entries, 0 to 16714\n",
      "Data columns (total 11 columns):\n",
      " #   Column           Non-Null Count  Dtype  \n",
      "---  ------           --------------  -----  \n",
      " 0   name             16444 non-null  object \n",
      " 1   platform         16444 non-null  object \n",
      " 2   year_of_release  16444 non-null  int64  \n",
      " 3   genre            16444 non-null  object \n",
      " 4   na_sales         16444 non-null  float64\n",
      " 5   eu_sales         16444 non-null  float64\n",
      " 6   jp_sales         16444 non-null  float64\n",
      " 7   other_sales      16444 non-null  float64\n",
      " 8   critic_score     7983 non-null   float64\n",
      " 9   user_score       9839 non-null   object \n",
      " 10  rating           9768 non-null   object \n",
      "dtypes: float64(5), int64(1), object(5)\n",
      "memory usage: 1.5+ MB\n",
      "None\n"
     ]
    }
   ],
   "source": [
    "# Not too many missing values with name and genre, opt to drop the two missing values seen, to sustain clear dataset.\n",
    "df.dropna(subset=['name'], inplace=True)\n",
    "df.dropna(subset=['genre'], inplace=True)\n",
    "\n",
    "display(df.sample(5))\n",
    "print(df.info())"
   ]
  },
  {
   "cell_type": "markdown",
   "metadata": {},
   "source": [
    "Looking at the 'critic_score' column there are a very significant amount of missing values to clear up. To insert a value as a placeholder in this column, opt to putting \"0\" as the placeholder for those missing values. My hope is that this helps with clarity and cohesion of the dataset."
   ]
  },
  {
   "cell_type": "code",
   "execution_count": 7,
   "metadata": {},
   "outputs": [
    {
     "data": {
      "text/html": [
       "<div>\n",
       "<style scoped>\n",
       "    .dataframe tbody tr th:only-of-type {\n",
       "        vertical-align: middle;\n",
       "    }\n",
       "\n",
       "    .dataframe tbody tr th {\n",
       "        vertical-align: top;\n",
       "    }\n",
       "\n",
       "    .dataframe thead th {\n",
       "        text-align: right;\n",
       "    }\n",
       "</style>\n",
       "<table border=\"1\" class=\"dataframe\">\n",
       "  <thead>\n",
       "    <tr style=\"text-align: right;\">\n",
       "      <th></th>\n",
       "      <th>name</th>\n",
       "      <th>platform</th>\n",
       "      <th>year_of_release</th>\n",
       "      <th>genre</th>\n",
       "      <th>na_sales</th>\n",
       "      <th>eu_sales</th>\n",
       "      <th>jp_sales</th>\n",
       "      <th>other_sales</th>\n",
       "      <th>critic_score</th>\n",
       "      <th>user_score</th>\n",
       "      <th>rating</th>\n",
       "    </tr>\n",
       "  </thead>\n",
       "  <tbody>\n",
       "    <tr>\n",
       "      <th>9929</th>\n",
       "      <td>The Clique: Diss and Make Up</td>\n",
       "      <td>DS</td>\n",
       "      <td>2009</td>\n",
       "      <td>Adventure</td>\n",
       "      <td>0.11</td>\n",
       "      <td>0.00</td>\n",
       "      <td>0.00</td>\n",
       "      <td>0.01</td>\n",
       "      <td>0.0</td>\n",
       "      <td>tbd</td>\n",
       "      <td>E10+</td>\n",
       "    </tr>\n",
       "    <tr>\n",
       "      <th>7930</th>\n",
       "      <td>Penguin no Mondai X: Tenkuu no 7 Senshi</td>\n",
       "      <td>DS</td>\n",
       "      <td>2009</td>\n",
       "      <td>Action</td>\n",
       "      <td>0.00</td>\n",
       "      <td>0.00</td>\n",
       "      <td>0.19</td>\n",
       "      <td>0.00</td>\n",
       "      <td>0.0</td>\n",
       "      <td>NaN</td>\n",
       "      <td>NaN</td>\n",
       "    </tr>\n",
       "    <tr>\n",
       "      <th>10559</th>\n",
       "      <td>Hakuouki Portable</td>\n",
       "      <td>PSP</td>\n",
       "      <td>2009</td>\n",
       "      <td>Adventure</td>\n",
       "      <td>0.00</td>\n",
       "      <td>0.00</td>\n",
       "      <td>0.10</td>\n",
       "      <td>0.00</td>\n",
       "      <td>0.0</td>\n",
       "      <td>NaN</td>\n",
       "      <td>NaN</td>\n",
       "    </tr>\n",
       "    <tr>\n",
       "      <th>2509</th>\n",
       "      <td>Need for Speed: Hot Pursuit 2</td>\n",
       "      <td>XB</td>\n",
       "      <td>2002</td>\n",
       "      <td>Racing</td>\n",
       "      <td>0.68</td>\n",
       "      <td>0.11</td>\n",
       "      <td>0.00</td>\n",
       "      <td>0.03</td>\n",
       "      <td>75.0</td>\n",
       "      <td>6.4</td>\n",
       "      <td>E</td>\n",
       "    </tr>\n",
       "    <tr>\n",
       "      <th>7141</th>\n",
       "      <td>Conflict: Vietnam</td>\n",
       "      <td>XB</td>\n",
       "      <td>2004</td>\n",
       "      <td>Shooter</td>\n",
       "      <td>0.17</td>\n",
       "      <td>0.05</td>\n",
       "      <td>0.00</td>\n",
       "      <td>0.01</td>\n",
       "      <td>60.0</td>\n",
       "      <td>7.3</td>\n",
       "      <td>M</td>\n",
       "    </tr>\n",
       "  </tbody>\n",
       "</table>\n",
       "</div>"
      ],
      "text/plain": [
       "                                          name platform  year_of_release  \\\n",
       "9929              The Clique: Diss and Make Up       DS             2009   \n",
       "7930   Penguin no Mondai X: Tenkuu no 7 Senshi       DS             2009   \n",
       "10559                        Hakuouki Portable      PSP             2009   \n",
       "2509             Need for Speed: Hot Pursuit 2       XB             2002   \n",
       "7141                         Conflict: Vietnam       XB             2004   \n",
       "\n",
       "           genre  na_sales  eu_sales  jp_sales  other_sales  critic_score  \\\n",
       "9929   Adventure      0.11      0.00      0.00         0.01           0.0   \n",
       "7930      Action      0.00      0.00      0.19         0.00           0.0   \n",
       "10559  Adventure      0.00      0.00      0.10         0.00           0.0   \n",
       "2509      Racing      0.68      0.11      0.00         0.03          75.0   \n",
       "7141     Shooter      0.17      0.05      0.00         0.01          60.0   \n",
       "\n",
       "      user_score rating  \n",
       "9929         tbd   E10+  \n",
       "7930         NaN    NaN  \n",
       "10559        NaN    NaN  \n",
       "2509         6.4      E  \n",
       "7141         7.3      M  "
      ]
     },
     "metadata": {},
     "output_type": "display_data"
    },
    {
     "name": "stdout",
     "output_type": "stream",
     "text": [
      "<class 'pandas.core.frame.DataFrame'>\n",
      "Int64Index: 16444 entries, 0 to 16714\n",
      "Data columns (total 11 columns):\n",
      " #   Column           Non-Null Count  Dtype  \n",
      "---  ------           --------------  -----  \n",
      " 0   name             16444 non-null  object \n",
      " 1   platform         16444 non-null  object \n",
      " 2   year_of_release  16444 non-null  int64  \n",
      " 3   genre            16444 non-null  object \n",
      " 4   na_sales         16444 non-null  float64\n",
      " 5   eu_sales         16444 non-null  float64\n",
      " 6   jp_sales         16444 non-null  float64\n",
      " 7   other_sales      16444 non-null  float64\n",
      " 8   critic_score     16444 non-null  float64\n",
      " 9   user_score       9839 non-null   object \n",
      " 10  rating           9768 non-null   object \n",
      "dtypes: float64(5), int64(1), object(5)\n",
      "memory usage: 1.5+ MB\n",
      "None\n"
     ]
    }
   ],
   "source": [
    "# Replace missing 'critic_score' values with the average critic score rating of games within the data frame\n",
    "df['critic_score'].fillna(0, inplace=True)\n",
    "\n",
    "display(df.sample(5))\n",
    "print(df.info())"
   ]
  },
  {
   "cell_type": "markdown",
   "metadata": {},
   "source": [
    "In the \"user_score\" column there were a lot of \"tbd\" values, along with the null values seen, which would throw off the dataset. Will opt to drop both \"tbd\" and the null values for cohesion. Will also change the data type. This will hopefully provide better accuracy of analysis."
   ]
  },
  {
   "cell_type": "code",
   "execution_count": 8,
   "metadata": {},
   "outputs": [
    {
     "data": {
      "text/html": [
       "<div>\n",
       "<style scoped>\n",
       "    .dataframe tbody tr th:only-of-type {\n",
       "        vertical-align: middle;\n",
       "    }\n",
       "\n",
       "    .dataframe tbody tr th {\n",
       "        vertical-align: top;\n",
       "    }\n",
       "\n",
       "    .dataframe thead th {\n",
       "        text-align: right;\n",
       "    }\n",
       "</style>\n",
       "<table border=\"1\" class=\"dataframe\">\n",
       "  <thead>\n",
       "    <tr style=\"text-align: right;\">\n",
       "      <th></th>\n",
       "      <th>name</th>\n",
       "      <th>platform</th>\n",
       "      <th>year_of_release</th>\n",
       "      <th>genre</th>\n",
       "      <th>na_sales</th>\n",
       "      <th>eu_sales</th>\n",
       "      <th>jp_sales</th>\n",
       "      <th>other_sales</th>\n",
       "      <th>critic_score</th>\n",
       "      <th>user_score</th>\n",
       "      <th>rating</th>\n",
       "    </tr>\n",
       "  </thead>\n",
       "  <tbody>\n",
       "    <tr>\n",
       "      <th>9106</th>\n",
       "      <td>Dead to Rights</td>\n",
       "      <td>GC</td>\n",
       "      <td>2002</td>\n",
       "      <td>Shooter</td>\n",
       "      <td>0.11</td>\n",
       "      <td>0.03</td>\n",
       "      <td>0.00</td>\n",
       "      <td>0.00</td>\n",
       "      <td>77.0</td>\n",
       "      <td>8.7</td>\n",
       "      <td>M</td>\n",
       "    </tr>\n",
       "    <tr>\n",
       "      <th>16430</th>\n",
       "      <td>Shinseiki Evangelion: Koutetsu no Girlfriend T...</td>\n",
       "      <td>PSP</td>\n",
       "      <td>2009</td>\n",
       "      <td>Adventure</td>\n",
       "      <td>0.00</td>\n",
       "      <td>0.00</td>\n",
       "      <td>0.01</td>\n",
       "      <td>0.00</td>\n",
       "      <td>0.0</td>\n",
       "      <td>0.0</td>\n",
       "      <td>NaN</td>\n",
       "    </tr>\n",
       "    <tr>\n",
       "      <th>8522</th>\n",
       "      <td>Crash Tag Team Racing</td>\n",
       "      <td>GC</td>\n",
       "      <td>2005</td>\n",
       "      <td>Racing</td>\n",
       "      <td>0.12</td>\n",
       "      <td>0.03</td>\n",
       "      <td>0.00</td>\n",
       "      <td>0.00</td>\n",
       "      <td>66.0</td>\n",
       "      <td>7.3</td>\n",
       "      <td>E10+</td>\n",
       "    </tr>\n",
       "    <tr>\n",
       "      <th>10894</th>\n",
       "      <td>Medal of Honor: Vanguard</td>\n",
       "      <td>Wii</td>\n",
       "      <td>2007</td>\n",
       "      <td>Shooter</td>\n",
       "      <td>0.06</td>\n",
       "      <td>0.03</td>\n",
       "      <td>0.00</td>\n",
       "      <td>0.01</td>\n",
       "      <td>56.0</td>\n",
       "      <td>7.0</td>\n",
       "      <td>T</td>\n",
       "    </tr>\n",
       "    <tr>\n",
       "      <th>6731</th>\n",
       "      <td>SBK Superbike World Championship</td>\n",
       "      <td>PS3</td>\n",
       "      <td>2008</td>\n",
       "      <td>Racing</td>\n",
       "      <td>0.12</td>\n",
       "      <td>0.11</td>\n",
       "      <td>0.00</td>\n",
       "      <td>0.02</td>\n",
       "      <td>59.0</td>\n",
       "      <td>6.1</td>\n",
       "      <td>E10+</td>\n",
       "    </tr>\n",
       "  </tbody>\n",
       "</table>\n",
       "</div>"
      ],
      "text/plain": [
       "                                                    name platform  \\\n",
       "9106                                      Dead to Rights       GC   \n",
       "16430  Shinseiki Evangelion: Koutetsu no Girlfriend T...      PSP   \n",
       "8522                               Crash Tag Team Racing       GC   \n",
       "10894                           Medal of Honor: Vanguard      Wii   \n",
       "6731                    SBK Superbike World Championship      PS3   \n",
       "\n",
       "       year_of_release      genre  na_sales  eu_sales  jp_sales  other_sales  \\\n",
       "9106              2002    Shooter      0.11      0.03      0.00         0.00   \n",
       "16430             2009  Adventure      0.00      0.00      0.01         0.00   \n",
       "8522              2005     Racing      0.12      0.03      0.00         0.00   \n",
       "10894             2007    Shooter      0.06      0.03      0.00         0.01   \n",
       "6731              2008     Racing      0.12      0.11      0.00         0.02   \n",
       "\n",
       "       critic_score  user_score rating  \n",
       "9106           77.0         8.7      M  \n",
       "16430           0.0         0.0    NaN  \n",
       "8522           66.0         7.3   E10+  \n",
       "10894          56.0         7.0      T  \n",
       "6731           59.0         6.1   E10+  "
      ]
     },
     "metadata": {},
     "output_type": "display_data"
    },
    {
     "name": "stdout",
     "output_type": "stream",
     "text": [
      "<class 'pandas.core.frame.DataFrame'>\n",
      "Int64Index: 16444 entries, 0 to 16714\n",
      "Data columns (total 11 columns):\n",
      " #   Column           Non-Null Count  Dtype  \n",
      "---  ------           --------------  -----  \n",
      " 0   name             16444 non-null  object \n",
      " 1   platform         16444 non-null  object \n",
      " 2   year_of_release  16444 non-null  int64  \n",
      " 3   genre            16444 non-null  object \n",
      " 4   na_sales         16444 non-null  float64\n",
      " 5   eu_sales         16444 non-null  float64\n",
      " 6   jp_sales         16444 non-null  float64\n",
      " 7   other_sales      16444 non-null  float64\n",
      " 8   critic_score     16444 non-null  float64\n",
      " 9   user_score       16444 non-null  float64\n",
      " 10  rating           9768 non-null   object \n",
      "dtypes: float64(6), int64(1), object(4)\n",
      "memory usage: 1.5+ MB\n",
      "None\n"
     ]
    }
   ],
   "source": [
    "# Replace missing and unacceptable 'user_score' values with the average user score rating of games within the data frame\n",
    "df['user_score'] = df['user_score'].replace('tbd', 0)\n",
    "df['user_score'].fillna(0, inplace=True)\n",
    "df['user_score'] = df['user_score'].astype(float)\n",
    "\n",
    "display(df.sample(5))\n",
    "print(df.info())"
   ]
  },
  {
   "cell_type": "code",
   "execution_count": 9,
   "metadata": {},
   "outputs": [
    {
     "data": {
      "text/html": [
       "<div>\n",
       "<style scoped>\n",
       "    .dataframe tbody tr th:only-of-type {\n",
       "        vertical-align: middle;\n",
       "    }\n",
       "\n",
       "    .dataframe tbody tr th {\n",
       "        vertical-align: top;\n",
       "    }\n",
       "\n",
       "    .dataframe thead th {\n",
       "        text-align: right;\n",
       "    }\n",
       "</style>\n",
       "<table border=\"1\" class=\"dataframe\">\n",
       "  <thead>\n",
       "    <tr style=\"text-align: right;\">\n",
       "      <th></th>\n",
       "      <th>name</th>\n",
       "      <th>platform</th>\n",
       "      <th>year_of_release</th>\n",
       "      <th>genre</th>\n",
       "      <th>na_sales</th>\n",
       "      <th>eu_sales</th>\n",
       "      <th>jp_sales</th>\n",
       "      <th>other_sales</th>\n",
       "      <th>critic_score</th>\n",
       "      <th>user_score</th>\n",
       "      <th>rating</th>\n",
       "    </tr>\n",
       "  </thead>\n",
       "  <tbody>\n",
       "    <tr>\n",
       "      <th>2158</th>\n",
       "      <td>World Championship Poker</td>\n",
       "      <td>PS2</td>\n",
       "      <td>2004</td>\n",
       "      <td>Misc</td>\n",
       "      <td>0.80</td>\n",
       "      <td>0.03</td>\n",
       "      <td>0.00</td>\n",
       "      <td>0.13</td>\n",
       "      <td>60.0</td>\n",
       "      <td>77.0</td>\n",
       "      <td>E</td>\n",
       "    </tr>\n",
       "    <tr>\n",
       "      <th>7412</th>\n",
       "      <td>SBK Superbike World Championship</td>\n",
       "      <td>X360</td>\n",
       "      <td>2008</td>\n",
       "      <td>Racing</td>\n",
       "      <td>0.06</td>\n",
       "      <td>0.14</td>\n",
       "      <td>0.00</td>\n",
       "      <td>0.01</td>\n",
       "      <td>63.0</td>\n",
       "      <td>80.0</td>\n",
       "      <td>E10+</td>\n",
       "    </tr>\n",
       "    <tr>\n",
       "      <th>10320</th>\n",
       "      <td>Rengoku: The Tower of Purgatory</td>\n",
       "      <td>PSP</td>\n",
       "      <td>2005</td>\n",
       "      <td>Action</td>\n",
       "      <td>0.10</td>\n",
       "      <td>0.00</td>\n",
       "      <td>0.00</td>\n",
       "      <td>0.01</td>\n",
       "      <td>43.0</td>\n",
       "      <td>56.0</td>\n",
       "      <td>M</td>\n",
       "    </tr>\n",
       "    <tr>\n",
       "      <th>5151</th>\n",
       "      <td>The House of the Dead: Overkill - Extended Cut</td>\n",
       "      <td>PS3</td>\n",
       "      <td>2011</td>\n",
       "      <td>Shooter</td>\n",
       "      <td>0.15</td>\n",
       "      <td>0.16</td>\n",
       "      <td>0.00</td>\n",
       "      <td>0.06</td>\n",
       "      <td>0.0</td>\n",
       "      <td>0.0</td>\n",
       "      <td>NaN</td>\n",
       "    </tr>\n",
       "    <tr>\n",
       "      <th>5355</th>\n",
       "      <td>Pirates of the Caribbean: At World's End</td>\n",
       "      <td>DS</td>\n",
       "      <td>2007</td>\n",
       "      <td>Action</td>\n",
       "      <td>0.30</td>\n",
       "      <td>0.01</td>\n",
       "      <td>0.01</td>\n",
       "      <td>0.03</td>\n",
       "      <td>66.0</td>\n",
       "      <td>0.0</td>\n",
       "      <td>E10+</td>\n",
       "    </tr>\n",
       "  </tbody>\n",
       "</table>\n",
       "</div>"
      ],
      "text/plain": [
       "                                                 name platform  \\\n",
       "2158                         World Championship Poker      PS2   \n",
       "7412                 SBK Superbike World Championship     X360   \n",
       "10320                 Rengoku: The Tower of Purgatory      PSP   \n",
       "5151   The House of the Dead: Overkill - Extended Cut      PS3   \n",
       "5355         Pirates of the Caribbean: At World's End       DS   \n",
       "\n",
       "       year_of_release    genre  na_sales  eu_sales  jp_sales  other_sales  \\\n",
       "2158              2004     Misc      0.80      0.03      0.00         0.13   \n",
       "7412              2008   Racing      0.06      0.14      0.00         0.01   \n",
       "10320             2005   Action      0.10      0.00      0.00         0.01   \n",
       "5151              2011  Shooter      0.15      0.16      0.00         0.06   \n",
       "5355              2007   Action      0.30      0.01      0.01         0.03   \n",
       "\n",
       "       critic_score  user_score rating  \n",
       "2158           60.0        77.0      E  \n",
       "7412           63.0        80.0   E10+  \n",
       "10320          43.0        56.0      M  \n",
       "5151            0.0         0.0    NaN  \n",
       "5355           66.0         0.0   E10+  "
      ]
     },
     "metadata": {},
     "output_type": "display_data"
    }
   ],
   "source": [
    "# Noticed that the \"critic_score\" and the \"user_score\" numbers looked different and that may hurt if you wanted to compare the two later on. Will multiply the \" user_score\" by ten to get results that can be comparible to each other.\n",
    "df['user_score'] = df['user_score'] * 10\n",
    "display(df.sample(5))"
   ]
  },
  {
   "cell_type": "markdown",
   "metadata": {},
   "source": [
    "Moving onto the \"rating\" column, there are close to half the entries that are missing. Will need to input placeholder to help clean up dataset. Will inject \"U\" for unknown as the placeholder."
   ]
  },
  {
   "cell_type": "code",
   "execution_count": 10,
   "metadata": {},
   "outputs": [
    {
     "data": {
      "text/html": [
       "<div>\n",
       "<style scoped>\n",
       "    .dataframe tbody tr th:only-of-type {\n",
       "        vertical-align: middle;\n",
       "    }\n",
       "\n",
       "    .dataframe tbody tr th {\n",
       "        vertical-align: top;\n",
       "    }\n",
       "\n",
       "    .dataframe thead th {\n",
       "        text-align: right;\n",
       "    }\n",
       "</style>\n",
       "<table border=\"1\" class=\"dataframe\">\n",
       "  <thead>\n",
       "    <tr style=\"text-align: right;\">\n",
       "      <th></th>\n",
       "      <th>name</th>\n",
       "      <th>platform</th>\n",
       "      <th>year_of_release</th>\n",
       "      <th>genre</th>\n",
       "      <th>na_sales</th>\n",
       "      <th>eu_sales</th>\n",
       "      <th>jp_sales</th>\n",
       "      <th>other_sales</th>\n",
       "      <th>critic_score</th>\n",
       "      <th>user_score</th>\n",
       "      <th>rating</th>\n",
       "    </tr>\n",
       "  </thead>\n",
       "  <tbody>\n",
       "    <tr>\n",
       "      <th>664</th>\n",
       "      <td>Dead Island</td>\n",
       "      <td>X360</td>\n",
       "      <td>2011</td>\n",
       "      <td>Action</td>\n",
       "      <td>1.48</td>\n",
       "      <td>0.69</td>\n",
       "      <td>0.00</td>\n",
       "      <td>0.20</td>\n",
       "      <td>71.0</td>\n",
       "      <td>69.0</td>\n",
       "      <td>M</td>\n",
       "    </tr>\n",
       "    <tr>\n",
       "      <th>8058</th>\n",
       "      <td>Brunswick Pro Bowling</td>\n",
       "      <td>PS3</td>\n",
       "      <td>2010</td>\n",
       "      <td>Sports</td>\n",
       "      <td>0.10</td>\n",
       "      <td>0.05</td>\n",
       "      <td>0.00</td>\n",
       "      <td>0.02</td>\n",
       "      <td>47.0</td>\n",
       "      <td>0.0</td>\n",
       "      <td>E</td>\n",
       "    </tr>\n",
       "    <tr>\n",
       "      <th>12048</th>\n",
       "      <td>BlazBlue: Chrono Phantasma</td>\n",
       "      <td>PSV</td>\n",
       "      <td>2014</td>\n",
       "      <td>Fighting</td>\n",
       "      <td>0.03</td>\n",
       "      <td>0.00</td>\n",
       "      <td>0.03</td>\n",
       "      <td>0.01</td>\n",
       "      <td>0.0</td>\n",
       "      <td>78.0</td>\n",
       "      <td>T</td>\n",
       "    </tr>\n",
       "    <tr>\n",
       "      <th>2189</th>\n",
       "      <td>Midway Presents Arcade's Greatest Hits: The At...</td>\n",
       "      <td>PS</td>\n",
       "      <td>1996</td>\n",
       "      <td>Misc</td>\n",
       "      <td>0.52</td>\n",
       "      <td>0.36</td>\n",
       "      <td>0.00</td>\n",
       "      <td>0.06</td>\n",
       "      <td>0.0</td>\n",
       "      <td>0.0</td>\n",
       "      <td>U</td>\n",
       "    </tr>\n",
       "    <tr>\n",
       "      <th>11196</th>\n",
       "      <td>Henry Hatsworth in the Puzzling Adventure</td>\n",
       "      <td>DS</td>\n",
       "      <td>2009</td>\n",
       "      <td>Puzzle</td>\n",
       "      <td>0.08</td>\n",
       "      <td>0.00</td>\n",
       "      <td>0.00</td>\n",
       "      <td>0.01</td>\n",
       "      <td>82.0</td>\n",
       "      <td>80.0</td>\n",
       "      <td>E</td>\n",
       "    </tr>\n",
       "  </tbody>\n",
       "</table>\n",
       "</div>"
      ],
      "text/plain": [
       "                                                    name platform  \\\n",
       "664                                          Dead Island     X360   \n",
       "8058                               Brunswick Pro Bowling      PS3   \n",
       "12048                         BlazBlue: Chrono Phantasma      PSV   \n",
       "2189   Midway Presents Arcade's Greatest Hits: The At...       PS   \n",
       "11196          Henry Hatsworth in the Puzzling Adventure       DS   \n",
       "\n",
       "       year_of_release     genre  na_sales  eu_sales  jp_sales  other_sales  \\\n",
       "664               2011    Action      1.48      0.69      0.00         0.20   \n",
       "8058              2010    Sports      0.10      0.05      0.00         0.02   \n",
       "12048             2014  Fighting      0.03      0.00      0.03         0.01   \n",
       "2189              1996      Misc      0.52      0.36      0.00         0.06   \n",
       "11196             2009    Puzzle      0.08      0.00      0.00         0.01   \n",
       "\n",
       "       critic_score  user_score rating  \n",
       "664            71.0        69.0      M  \n",
       "8058           47.0         0.0      E  \n",
       "12048           0.0        78.0      T  \n",
       "2189            0.0         0.0      U  \n",
       "11196          82.0        80.0      E  "
      ]
     },
     "metadata": {},
     "output_type": "display_data"
    },
    {
     "name": "stdout",
     "output_type": "stream",
     "text": [
      "<class 'pandas.core.frame.DataFrame'>\n",
      "Int64Index: 16444 entries, 0 to 16714\n",
      "Data columns (total 11 columns):\n",
      " #   Column           Non-Null Count  Dtype  \n",
      "---  ------           --------------  -----  \n",
      " 0   name             16444 non-null  object \n",
      " 1   platform         16444 non-null  object \n",
      " 2   year_of_release  16444 non-null  int64  \n",
      " 3   genre            16444 non-null  object \n",
      " 4   na_sales         16444 non-null  float64\n",
      " 5   eu_sales         16444 non-null  float64\n",
      " 6   jp_sales         16444 non-null  float64\n",
      " 7   other_sales      16444 non-null  float64\n",
      " 8   critic_score     16444 non-null  float64\n",
      " 9   user_score       16444 non-null  float64\n",
      " 10  rating           16444 non-null  object \n",
      "dtypes: float64(6), int64(1), object(4)\n",
      "memory usage: 1.5+ MB\n",
      "None\n"
     ]
    }
   ],
   "source": [
    "# Replace missing 'rating' values with placeholder 'U'\n",
    "df['rating'].fillna('U', inplace=True)\n",
    "\n",
    "display(df.sample(5))\n",
    "print(df.info())"
   ]
  },
  {
   "cell_type": "markdown",
   "metadata": {},
   "source": [
    "The dataset is now cleaned up with null values removed. To help expand on the data we have, want to make another column to combine all the sales from the four columns (na_sales, eu_sales, jp_sales, and other_sales) to get a totoal amount of sales for each title."
   ]
  },
  {
   "cell_type": "code",
   "execution_count": 11,
   "metadata": {},
   "outputs": [
    {
     "data": {
      "text/html": [
       "<div>\n",
       "<style scoped>\n",
       "    .dataframe tbody tr th:only-of-type {\n",
       "        vertical-align: middle;\n",
       "    }\n",
       "\n",
       "    .dataframe tbody tr th {\n",
       "        vertical-align: top;\n",
       "    }\n",
       "\n",
       "    .dataframe thead th {\n",
       "        text-align: right;\n",
       "    }\n",
       "</style>\n",
       "<table border=\"1\" class=\"dataframe\">\n",
       "  <thead>\n",
       "    <tr style=\"text-align: right;\">\n",
       "      <th></th>\n",
       "      <th>name</th>\n",
       "      <th>platform</th>\n",
       "      <th>year_of_release</th>\n",
       "      <th>genre</th>\n",
       "      <th>na_sales</th>\n",
       "      <th>eu_sales</th>\n",
       "      <th>jp_sales</th>\n",
       "      <th>other_sales</th>\n",
       "      <th>critic_score</th>\n",
       "      <th>user_score</th>\n",
       "      <th>rating</th>\n",
       "      <th>total_sales</th>\n",
       "    </tr>\n",
       "  </thead>\n",
       "  <tbody>\n",
       "    <tr>\n",
       "      <th>3894</th>\n",
       "      <td>DC Universe Online</td>\n",
       "      <td>PS3</td>\n",
       "      <td>2011</td>\n",
       "      <td>Role-Playing</td>\n",
       "      <td>0.35</td>\n",
       "      <td>0.11</td>\n",
       "      <td>0.00</td>\n",
       "      <td>0.06</td>\n",
       "      <td>67.0</td>\n",
       "      <td>74.0</td>\n",
       "      <td>T</td>\n",
       "      <td>0.52</td>\n",
       "    </tr>\n",
       "    <tr>\n",
       "      <th>2236</th>\n",
       "      <td>The LEGO Movie Videogame</td>\n",
       "      <td>PS3</td>\n",
       "      <td>2014</td>\n",
       "      <td>Action</td>\n",
       "      <td>0.33</td>\n",
       "      <td>0.43</td>\n",
       "      <td>0.02</td>\n",
       "      <td>0.15</td>\n",
       "      <td>80.0</td>\n",
       "      <td>68.0</td>\n",
       "      <td>E10+</td>\n",
       "      <td>0.93</td>\n",
       "    </tr>\n",
       "    <tr>\n",
       "      <th>16470</th>\n",
       "      <td>Super Bubble Pop</td>\n",
       "      <td>XB</td>\n",
       "      <td>2002</td>\n",
       "      <td>Puzzle</td>\n",
       "      <td>0.01</td>\n",
       "      <td>0.00</td>\n",
       "      <td>0.00</td>\n",
       "      <td>0.00</td>\n",
       "      <td>42.0</td>\n",
       "      <td>0.0</td>\n",
       "      <td>E</td>\n",
       "      <td>0.01</td>\n",
       "    </tr>\n",
       "    <tr>\n",
       "      <th>12272</th>\n",
       "      <td>NHL Hitz Pro</td>\n",
       "      <td>XB</td>\n",
       "      <td>2003</td>\n",
       "      <td>Sports</td>\n",
       "      <td>0.05</td>\n",
       "      <td>0.01</td>\n",
       "      <td>0.00</td>\n",
       "      <td>0.00</td>\n",
       "      <td>81.0</td>\n",
       "      <td>88.0</td>\n",
       "      <td>E</td>\n",
       "      <td>0.06</td>\n",
       "    </tr>\n",
       "    <tr>\n",
       "      <th>5188</th>\n",
       "      <td>Sword Art Online: Lost Song</td>\n",
       "      <td>PSV</td>\n",
       "      <td>2015</td>\n",
       "      <td>Role-Playing</td>\n",
       "      <td>0.06</td>\n",
       "      <td>0.04</td>\n",
       "      <td>0.23</td>\n",
       "      <td>0.03</td>\n",
       "      <td>70.0</td>\n",
       "      <td>71.0</td>\n",
       "      <td>T</td>\n",
       "      <td>0.36</td>\n",
       "    </tr>\n",
       "  </tbody>\n",
       "</table>\n",
       "</div>"
      ],
      "text/plain": [
       "                              name platform  year_of_release         genre  \\\n",
       "3894            DC Universe Online      PS3             2011  Role-Playing   \n",
       "2236      The LEGO Movie Videogame      PS3             2014        Action   \n",
       "16470             Super Bubble Pop       XB             2002        Puzzle   \n",
       "12272                 NHL Hitz Pro       XB             2003        Sports   \n",
       "5188   Sword Art Online: Lost Song      PSV             2015  Role-Playing   \n",
       "\n",
       "       na_sales  eu_sales  jp_sales  other_sales  critic_score  user_score  \\\n",
       "3894       0.35      0.11      0.00         0.06          67.0        74.0   \n",
       "2236       0.33      0.43      0.02         0.15          80.0        68.0   \n",
       "16470      0.01      0.00      0.00         0.00          42.0         0.0   \n",
       "12272      0.05      0.01      0.00         0.00          81.0        88.0   \n",
       "5188       0.06      0.04      0.23         0.03          70.0        71.0   \n",
       "\n",
       "      rating  total_sales  \n",
       "3894       T         0.52  \n",
       "2236    E10+         0.93  \n",
       "16470      E         0.01  \n",
       "12272      E         0.06  \n",
       "5188       T         0.36  "
      ]
     },
     "metadata": {},
     "output_type": "display_data"
    },
    {
     "name": "stdout",
     "output_type": "stream",
     "text": [
      "<class 'pandas.core.frame.DataFrame'>\n",
      "Int64Index: 16444 entries, 0 to 16714\n",
      "Data columns (total 12 columns):\n",
      " #   Column           Non-Null Count  Dtype  \n",
      "---  ------           --------------  -----  \n",
      " 0   name             16444 non-null  object \n",
      " 1   platform         16444 non-null  object \n",
      " 2   year_of_release  16444 non-null  int64  \n",
      " 3   genre            16444 non-null  object \n",
      " 4   na_sales         16444 non-null  float64\n",
      " 5   eu_sales         16444 non-null  float64\n",
      " 6   jp_sales         16444 non-null  float64\n",
      " 7   other_sales      16444 non-null  float64\n",
      " 8   critic_score     16444 non-null  float64\n",
      " 9   user_score       16444 non-null  float64\n",
      " 10  rating           16444 non-null  object \n",
      " 11  total_sales      16444 non-null  float64\n",
      "dtypes: float64(7), int64(1), object(4)\n",
      "memory usage: 1.6+ MB\n",
      "None\n"
     ]
    }
   ],
   "source": [
    "# Calculate the total number of sales for each game\n",
    "df['total_sales'] = df['na_sales'] + df['eu_sales'] + df['jp_sales'] + df['other_sales']\n",
    "\n",
    "display(df.sample(5))\n",
    "print(df.info())"
   ]
  },
  {
   "cell_type": "markdown",
   "metadata": {},
   "source": [
    "Analyze Data\n",
    "\n",
    "Will examine the number of game releases over the year given. This will help us to narrow the years that may hold more significant data that will be help our focus."
   ]
  },
  {
   "cell_type": "code",
   "execution_count": 12,
   "metadata": {},
   "outputs": [
    {
     "data": {
      "image/png": "[encoded data removed]",
      "text/plain": [
       "<Figure size 2000x500 with 1 Axes>"
      ]
     },
     "metadata": {},
     "output_type": "display_data"
    }
   ],
   "source": [
    "plt.figure(figsize=(20, 5))\n",
    "df['year_of_release'].value_counts().sort_index().plot(kind='bar', title='Total Games Released per Year', xlabel='Years', ylabel='Games Released')\n",
    "plt.show()"
   ]
  },
  {
   "cell_type": "markdown",
   "metadata": {},
   "source": [
    "The above graph shows us a few insights. Years 2008 and 2009 were the peak years with the most game releases. Starting in 2001 we start to see huge jumps in releases in most years with the exception 2003 and 2004 and start to drop in 2010. After 2011 a huge drop is seen in releases."
   ]
  },
  {
   "cell_type": "markdown",
   "metadata": {},
   "source": [
    "Making a graph below to see how game sales for each platform"
   ]
  },
  {
   "cell_type": "code",
   "execution_count": 13,
   "metadata": {},
   "outputs": [
    {
     "data": {
      "text/plain": [
       "<AxesSubplot:title={'center':'Total Game Sales for Each Platform'}, xlabel='Platforms', ylabel='Total Game Sales (Millions)'>"
      ]
     },
     "execution_count": 13,
     "metadata": {},
     "output_type": "execute_result"
    },
    {
     "data": {
      "image/png": "[encoded data removed]",
      "text/plain": [
       "<Figure size 2000x500 with 1 Axes>"
      ]
     },
     "metadata": {},
     "output_type": "display_data"
    }
   ],
   "source": [
    "plt.figure(figsize=(20, 5))\n",
    "df.groupby('platform')['total_sales'].sum().sort_index().plot(kind='bar', title='Total Game Sales for Each Platform', xlabel='Platforms', ylabel='Total Game Sales (Millions)')"
   ]
  },
  {
   "cell_type": "markdown",
   "metadata": {},
   "source": [
    "Looking at the graph, it looks like PS2, Xbox 360, PS3, Wii, and DS."
   ]
  },
  {
   "cell_type": "markdown",
   "metadata": {},
   "source": [
    "Analyze the total annual sales of these top platforms from the year 2000 onward by building a distribution. It seems that after the year 2000 is when we see the biggest changes. Using the top 5 platforms (PS2, Xbox 360, PS3, Wii, and DS) with most game sales will look to make graph to see how these sales look like over the years 2000-2016."
   ]
  },
  {
   "cell_type": "code",
   "execution_count": 14,
   "metadata": {
    "scrolled": true
   },
   "outputs": [
    {
     "data": {
      "image/png": "[encoded data removed]",
      "text/plain": [
       "<Figure size 2000x500 with 1 Axes>"
      ]
     },
     "metadata": {},
     "output_type": "display_data"
    }
   ],
   "source": [
    "# Group by year_of_release and platform, then sum total sales\n",
    "platform_sales = df.groupby('platform')['total_sales'].sum().sort_values(ascending=False)\n",
    "top_5_plats = platform_sales.head(5)\n",
    "\n",
    "\n",
    "# Filter the original DataFrame so that it only contains the top 5 platforms\n",
    "top_5_games_df = df[df['platform'].isin(top_5_plats.keys()) & (df['year_of_release'] >= 2000)]\n",
    "platform_sales_df = top_5_games_df.groupby(['year_of_release', 'platform'])['total_sales'].sum().unstack()\n",
    "\n",
    "\n",
    "fig, ax = plt.subplots(figsize=(20, 5))\n",
    "\n",
    "# Plot each platform's total sales by year\n",
    "for platform in platform_sales_df.columns:\n",
    "    ax.plot(platform_sales_df.index, platform_sales_df[platform], label=platform)\n",
    "\n",
    "plt.title('Total Sales per Top 5 Platforms')\n",
    "plt.xlabel('Year of Release')\n",
    "plt.ylabel('Total Sales (Millions)')\n",
    "plt.legend(title='Platform')\n",
    "\n",
    "# Set x-axis to diaplye years\n",
    "ax.set_xticks(platform_sales_df.index)\n",
    "ax.set_xticklabels(platform_sales_df.index)\n",
    "\n",
    "plt.grid(True)\n",
    "plt.show()"
   ]
  },
  {
   "cell_type": "markdown",
   "metadata": {},
   "source": [
    "Analyzing the chart above, we first see that PS2 had the biggest incline and sustainable period of sales. The Wii had a decent increase that peaked in 2009 about where the total sales matched PS2 was but had a steep decline right after.The remaining platforms showed that the trend of sales steadily increasing, reaching peaks around the 3-4 year mark, and then gradually declining."
   ]
  },
  {
   "cell_type": "markdown",
   "metadata": {},
   "source": [
    "To help with looking at future projections for 2017 will narrow focus to 2013-2016 to allow four years of data. Earlier years could potentially skew data because of irrelavancy and would not help accuracy for the projections for 2017."
   ]
  },
  {
   "cell_type": "code",
   "execution_count": 15,
   "metadata": {},
   "outputs": [
    {
     "name": "stdout",
     "output_type": "stream",
     "text": [
      "<class 'pandas.core.frame.DataFrame'>\n",
      "Int64Index: 2233 entries, 16 to 16714\n",
      "Data columns (total 12 columns):\n",
      " #   Column           Non-Null Count  Dtype  \n",
      "---  ------           --------------  -----  \n",
      " 0   name             2233 non-null   object \n",
      " 1   platform         2233 non-null   object \n",
      " 2   year_of_release  2233 non-null   int64  \n",
      " 3   genre            2233 non-null   object \n",
      " 4   na_sales         2233 non-null   float64\n",
      " 5   eu_sales         2233 non-null   float64\n",
      " 6   jp_sales         2233 non-null   float64\n",
      " 7   other_sales      2233 non-null   float64\n",
      " 8   critic_score     2233 non-null   float64\n",
      " 9   user_score       2233 non-null   float64\n",
      " 10  rating           2233 non-null   object \n",
      " 11  total_sales      2233 non-null   float64\n",
      "dtypes: float64(7), int64(1), object(4)\n",
      "memory usage: 226.8+ KB\n",
      "None\n"
     ]
    }
   ],
   "source": [
    "# Filter the data frame to include only relevant data\n",
    "df = df[(df['year_of_release'] >= 2013)]\n",
    "print(df.info())"
   ]
  },
  {
   "cell_type": "markdown",
   "metadata": {},
   "source": [
    "Difference in Sales\n",
    "Will build a box plot for the global sales of all games. Will break it down by platform to explore whether or not the differences in sales significant."
   ]
  },
  {
   "cell_type": "code",
   "execution_count": 16,
   "metadata": {},
   "outputs": [
    {
     "data": {
      "text/plain": [
       "<Figure size 640x480 with 0 Axes>"
      ]
     },
     "metadata": {},
     "output_type": "display_data"
    },
    {
     "data": {
      "image/png": "[encoded data removed]",
      "text/plain": [
       "<Figure size 2000x500 with 1 Axes>"
      ]
     },
     "metadata": {},
     "output_type": "display_data"
    },
    {
     "data": {
      "text/html": [
       "<div>\n",
       "<style scoped>\n",
       "    .dataframe tbody tr th:only-of-type {\n",
       "        vertical-align: middle;\n",
       "    }\n",
       "\n",
       "    .dataframe tbody tr th {\n",
       "        vertical-align: top;\n",
       "    }\n",
       "\n",
       "    .dataframe thead tr th {\n",
       "        text-align: left;\n",
       "    }\n",
       "\n",
       "    .dataframe thead tr:last-of-type th {\n",
       "        text-align: right;\n",
       "    }\n",
       "</style>\n",
       "<table border=\"1\" class=\"dataframe\">\n",
       "  <thead>\n",
       "    <tr>\n",
       "      <th></th>\n",
       "      <th>mean</th>\n",
       "      <th>median</th>\n",
       "      <th>std</th>\n",
       "      <th>var</th>\n",
       "    </tr>\n",
       "    <tr>\n",
       "      <th></th>\n",
       "      <th>total_sales</th>\n",
       "      <th>total_sales</th>\n",
       "      <th>total_sales</th>\n",
       "      <th>total_sales</th>\n",
       "    </tr>\n",
       "    <tr>\n",
       "      <th>platform</th>\n",
       "      <th></th>\n",
       "      <th></th>\n",
       "      <th></th>\n",
       "      <th></th>\n",
       "    </tr>\n",
       "  </thead>\n",
       "  <tbody>\n",
       "    <tr>\n",
       "      <th>3DS</th>\n",
       "      <td>0.472772</td>\n",
       "      <td>0.090</td>\n",
       "      <td>1.381347</td>\n",
       "      <td>1.908119</td>\n",
       "    </tr>\n",
       "    <tr>\n",
       "      <th>DS</th>\n",
       "      <td>0.192500</td>\n",
       "      <td>0.150</td>\n",
       "      <td>0.172026</td>\n",
       "      <td>0.029593</td>\n",
       "    </tr>\n",
       "    <tr>\n",
       "      <th>PC</th>\n",
       "      <td>0.208624</td>\n",
       "      <td>0.080</td>\n",
       "      <td>0.352304</td>\n",
       "      <td>0.124118</td>\n",
       "    </tr>\n",
       "    <tr>\n",
       "      <th>PS3</th>\n",
       "      <td>0.525884</td>\n",
       "      <td>0.150</td>\n",
       "      <td>1.451939</td>\n",
       "      <td>2.108128</td>\n",
       "    </tr>\n",
       "    <tr>\n",
       "      <th>PS4</th>\n",
       "      <td>0.801378</td>\n",
       "      <td>0.200</td>\n",
       "      <td>1.609456</td>\n",
       "      <td>2.590350</td>\n",
       "    </tr>\n",
       "    <tr>\n",
       "      <th>PSP</th>\n",
       "      <td>0.052239</td>\n",
       "      <td>0.020</td>\n",
       "      <td>0.059768</td>\n",
       "      <td>0.003572</td>\n",
       "    </tr>\n",
       "    <tr>\n",
       "      <th>PSV</th>\n",
       "      <td>0.092151</td>\n",
       "      <td>0.040</td>\n",
       "      <td>0.153816</td>\n",
       "      <td>0.023660</td>\n",
       "    </tr>\n",
       "    <tr>\n",
       "      <th>Wii</th>\n",
       "      <td>0.593913</td>\n",
       "      <td>0.180</td>\n",
       "      <td>0.915432</td>\n",
       "      <td>0.838016</td>\n",
       "    </tr>\n",
       "    <tr>\n",
       "      <th>WiiU</th>\n",
       "      <td>0.562000</td>\n",
       "      <td>0.200</td>\n",
       "      <td>1.038778</td>\n",
       "      <td>1.079060</td>\n",
       "    </tr>\n",
       "    <tr>\n",
       "      <th>X360</th>\n",
       "      <td>0.735484</td>\n",
       "      <td>0.265</td>\n",
       "      <td>1.663275</td>\n",
       "      <td>2.766484</td>\n",
       "    </tr>\n",
       "    <tr>\n",
       "      <th>XOne</th>\n",
       "      <td>0.645020</td>\n",
       "      <td>0.220</td>\n",
       "      <td>1.036139</td>\n",
       "      <td>1.073584</td>\n",
       "    </tr>\n",
       "  </tbody>\n",
       "</table>\n",
       "</div>"
      ],
      "text/plain": [
       "                mean      median         std         var\n",
       "         total_sales total_sales total_sales total_sales\n",
       "platform                                                \n",
       "3DS         0.472772       0.090    1.381347    1.908119\n",
       "DS          0.192500       0.150    0.172026    0.029593\n",
       "PC          0.208624       0.080    0.352304    0.124118\n",
       "PS3         0.525884       0.150    1.451939    2.108128\n",
       "PS4         0.801378       0.200    1.609456    2.590350\n",
       "PSP         0.052239       0.020    0.059768    0.003572\n",
       "PSV         0.092151       0.040    0.153816    0.023660\n",
       "Wii         0.593913       0.180    0.915432    0.838016\n",
       "WiiU        0.562000       0.200    1.038778    1.079060\n",
       "X360        0.735484       0.265    1.663275    2.766484\n",
       "XOne        0.645020       0.220    1.036139    1.073584"
      ]
     },
     "execution_count": 16,
     "metadata": {},
     "output_type": "execute_result"
    }
   ],
   "source": [
    "# Plot box plots for each gaming platform to meaure difference in sales\n",
    "plt.figure()\n",
    "df.boxplot(column='total_sales', by='platform', figsize=(20, 5))\n",
    "plt.title('Total Sales of Games by Platform')\n",
    "plt.xlabel('Platforms')\n",
    "plt.ylabel('Total Sales (Millions)')\n",
    "plt.yscale('log')  # Use logarithmic scale for better visualization\n",
    "plt.show()\n",
    "\n",
    "# Calculate the mean, median, std dev and variance of the total sales by platform\n",
    "df.pivot_table(index='platform', values=['total_sales'], aggfunc=['mean', 'median', 'std', 'var'])"
   ]
  },
  {
   "cell_type": "markdown",
   "metadata": {},
   "source": [
    "The median total sales as seen in the box plot and pivot table above provide a measure of the central tendency and are particularly useful for understanding the distribution of sales data. For instance, while the median total sales for PSP and DS are relatively low at 0.020 million and 0.150 million respectively, platforms like PS4 and X360 show higher median sales figures of 0.200 million and 0.265 million, indicating a more evenly distributed sales pattern.\n",
    "\n",
    "The mean total sales serve as a measure of average sales volume on each platform, indicating relative popularity or market success. Platforms with higher mean total sales, such as the PS4, signify stronger overall sales performance. Theplatforms with lower mean sales, like PSP or PSV, may have less market share or appeal.\n",
    "\n",
    "The standard deviation measures the variability or dispersion of total sales around the mean, with higher values suggesting greater fluctuation in sales performance across different games. For instance, the Xbox 360 exhibits the highest standard deviation and variance, implying significant variability in sales figures. Meanwhile, platforms like PS4, Xbox 30, and Wii show relatively high mean total sales, underscoring their significance in the gaming market.\n",
    "\n",
    "This data aids in understanding sales dynamics and market positioning across gaming platforms, facilitating informed strategic decisions within the industry."
   ]
  },
  {
   "cell_type": "markdown",
   "metadata": {},
   "source": [
    "Assess if reviews affect sales:\n",
    "Let's examine how user and professional reviews influence sales for Xbox 360 games. We will create scatter plots for user scores and critic scores, and calculate the correlation between reviews and sales for each plot. Let's begin with Critic Scores."
   ]
  },
  {
   "cell_type": "code",
   "execution_count": 17,
   "metadata": {},
   "outputs": [
    {
     "data": {
      "image/png": "[encoded data removed]",
      "text/plain": [
       "<Figure size 2000x500 with 1 Axes>"
      ]
     },
     "metadata": {},
     "output_type": "display_data"
    },
    {
     "name": "stdout",
     "output_type": "stream",
     "text": [
      "Correlation Coefficent (Sales vs Critic Score): 0.3503445460228664\n"
     ]
    }
   ],
   "source": [
    "# Plotting the first scatter plot with 'critic_score' on x-axis and 'total_sales' on y-axis\n",
    "x360_critic = df[(df['platform'] == 'X360') & (df['critic_score'] != 0)]\n",
    "fig, ax = plt.subplots(figsize=(20, 5))\n",
    "x360_critic.plot(x='critic_score', y='total_sales', kind='scatter', title='Sales vs Critic Score', ax=ax)\n",
    "plt.xlabel('Critic Score')\n",
    "plt.ylabel('Total Sales (Millions)')\n",
    "plt.show()\n",
    "\n",
    "print(\"Correlation Coefficent (Sales vs Critic Score):\", x360_critic['critic_score'].corr(x360_critic['total_sales']))"
   ]
  },
  {
   "cell_type": "markdown",
   "metadata": {},
   "source": [
    "Based on the scatterplot and the correlation coefficient of 0.246, there is not a strong relationship between sales and critic scores. This indicates that positive or negative reviews do not necessarily indicate to higher sales for a game. Will investigate whether this for user reviews as well."
   ]
  },
  {
   "cell_type": "code",
   "execution_count": 18,
   "metadata": {},
   "outputs": [
    {
     "data": {
      "image/png": "[encoded data removed]",
      "text/plain": [
       "<Figure size 2000x500 with 1 Axes>"
      ]
     },
     "metadata": {},
     "output_type": "display_data"
    },
    {
     "name": "stdout",
     "output_type": "stream",
     "text": [
      "Correlation Coefficent (Sales vs User Score): -0.006238179532306256\n"
     ]
    }
   ],
   "source": [
    "# Plotting the second scatter plot with 'user_score' on x-axis and 'total_sales' on y-axis\n",
    "x360_user = df[(df['platform'] == 'X360') & (df['critic_score'] != 0)]\n",
    "fig, ax = plt.subplots(figsize=(20, 5))\n",
    "x360_user.plot(x='user_score', y='total_sales', kind='scatter', title='Sales vs User Score', ax=ax)\n",
    "plt.xlabel('User Score')\n",
    "plt.ylabel('Total Sales (Millions)')\n",
    "plt.show()\n",
    "\n",
    "print(\"Correlation Coefficent (Sales vs User Score):\", x360_user['user_score'].corr(x360_user['total_sales']))"
   ]
  },
  {
   "cell_type": "markdown",
   "metadata": {},
   "source": [
    "The data taken from the xbox360 indicates the correlation coefficient being 0.06 would tell me there a weeak correlation between the sales and user reviews. Taking this information would leave me to conclude that user reviews do not have a significant impact on game sales."
   ]
  },
  {
   "cell_type": "markdown",
   "metadata": {},
   "source": [
    "Cross-Platform Sales Analysis\n",
    "NI want to start to make a comparison of game sales across different platforms. First step is to identify the top three games with availability across multiple platforms. By identifying the top three games available on multiple platforms, we can ensure our analysis is based on comprehensive and accurate data, setting a solid foundation for our comparison."
   ]
  },
  {
   "cell_type": "code",
   "execution_count": 19,
   "metadata": {},
   "outputs": [
    {
     "name": "stdout",
     "output_type": "stream",
     "text": [
      "name\n",
      "LEGO Marvel Super Heroes    9\n",
      "FIFA 14                     9\n",
      "LEGO Jurassic World         8\n",
      "Name: platform, dtype: int64\n"
     ]
    }
   ],
   "source": [
    "# Get the top 3 games that are availble to the most amount of gaming platforms\n",
    "game_platform_counts = df.groupby('name')['platform'].nunique().sort_values(ascending=False)\n",
    "three_games = game_platform_counts.head(3)\n",
    "print(three_games)"
   ]
  },
  {
   "cell_type": "code",
   "execution_count": 20,
   "metadata": {},
   "outputs": [
    {
     "data": {
      "image/png": "[encoded data removed]",
      "text/plain": [
       "<Figure size 2000x500 with 1 Axes>"
      ]
     },
     "metadata": {},
     "output_type": "display_data"
    }
   ],
   "source": [
    "# Filter the original DataFrame so that it only contains our chosen 3 games for the graph\n",
    "three_plats_games_df = df[df['name'].isin(three_games.keys())]\n",
    "\n",
    "# Plot\n",
    "fig, ax = plt.subplots(figsize=(20, 5))\n",
    "three_plats_games_df.groupby(['platform', 'name'])['total_sales'].sum().unstack().plot(kind='bar', ax=ax)\n",
    "plt.title('Total Sales per Platform for Top 3 Games')\n",
    "plt.xlabel('Platforms')\n",
    "plt.ylabel('Total Sales (Millions)')\n",
    "plt.legend(title='Game')\n",
    "plt.show()"
   ]
  },
  {
   "cell_type": "markdown",
   "metadata": {},
   "source": [
    "Looking at the above graph and data acrossmultiple gaming platforms, we can make multiple observations. One of the biggest is seeing how FIFA 14 has a considerable jump on sales acrossPS3, PS4 and X360. It lloks like it is hitting the Nintendo cosoles during a transition period with the Wii gaining the sales and WiiU probably not carrying it. We can see that PS3, PS4 and X360 are probably more used by the community as a whole versus some of the handheld consoles (3DS, DS, PSP) and PC users at this time.This can give insights during this time that could provide market intelligence on what people are wanting to purchase and console preferences in playing the bigger seeling games."
   ]
  },
  {
   "cell_type": "markdown",
   "metadata": {},
   "source": [
    "The Most Profitable and Least Profitable Game Genres"
   ]
  },
  {
   "cell_type": "code",
   "execution_count": 21,
   "metadata": {},
   "outputs": [
    {
     "data": {
      "text/plain": [
       "<AxesSubplot:title={'center':'Average Game Sales for Each Platform'}, xlabel='Genres', ylabel='Average Game Sales'>"
      ]
     },
     "execution_count": 21,
     "metadata": {},
     "output_type": "execute_result"
    },
    {
     "data": {
      "image/png": "[encoded data removed]",
      "text/plain": [
       "<Figure size 2000x500 with 1 Axes>"
      ]
     },
     "metadata": {},
     "output_type": "display_data"
    }
   ],
   "source": [
    "# Create a bar chart of average sales based on genre\n",
    "fig, ax = plt.subplots(figsize=(20, 5))\n",
    "df.groupby('genre')['total_sales'].mean().sort_index().plot(kind='bar', title='Average Game Sales for Each Platform', xlabel='Genres', ylabel='Average Game Sales', ax=ax)"
   ]
  },
  {
   "cell_type": "code",
   "execution_count": 22,
   "metadata": {},
   "outputs": [
    {
     "data": {
      "text/plain": [
       "<Figure size 640x480 with 0 Axes>"
      ]
     },
     "metadata": {},
     "output_type": "display_data"
    },
    {
     "data": {
      "image/png": "[encoded data removed]",
      "text/plain": [
       "<Figure size 2000x500 with 1 Axes>"
      ]
     },
     "metadata": {},
     "output_type": "display_data"
    },
    {
     "data": {
      "text/html": [
       "<div>\n",
       "<style scoped>\n",
       "    .dataframe tbody tr th:only-of-type {\n",
       "        vertical-align: middle;\n",
       "    }\n",
       "\n",
       "    .dataframe tbody tr th {\n",
       "        vertical-align: top;\n",
       "    }\n",
       "\n",
       "    .dataframe thead tr th {\n",
       "        text-align: left;\n",
       "    }\n",
       "\n",
       "    .dataframe thead tr:last-of-type th {\n",
       "        text-align: right;\n",
       "    }\n",
       "</style>\n",
       "<table border=\"1\" class=\"dataframe\">\n",
       "  <thead>\n",
       "    <tr>\n",
       "      <th></th>\n",
       "      <th>mean</th>\n",
       "      <th>median</th>\n",
       "      <th>std</th>\n",
       "      <th>var</th>\n",
       "    </tr>\n",
       "    <tr>\n",
       "      <th></th>\n",
       "      <th>total_sales</th>\n",
       "      <th>total_sales</th>\n",
       "      <th>total_sales</th>\n",
       "      <th>total_sales</th>\n",
       "    </tr>\n",
       "    <tr>\n",
       "      <th>genre</th>\n",
       "      <th></th>\n",
       "      <th></th>\n",
       "      <th></th>\n",
       "      <th></th>\n",
       "    </tr>\n",
       "  </thead>\n",
       "  <tbody>\n",
       "    <tr>\n",
       "      <th>Action</th>\n",
       "      <td>0.420196</td>\n",
       "      <td>0.110</td>\n",
       "      <td>1.253909</td>\n",
       "      <td>1.572289</td>\n",
       "    </tr>\n",
       "    <tr>\n",
       "      <th>Adventure</th>\n",
       "      <td>0.096490</td>\n",
       "      <td>0.030</td>\n",
       "      <td>0.216445</td>\n",
       "      <td>0.046848</td>\n",
       "    </tr>\n",
       "    <tr>\n",
       "      <th>Fighting</th>\n",
       "      <td>0.441375</td>\n",
       "      <td>0.125</td>\n",
       "      <td>1.048883</td>\n",
       "      <td>1.100156</td>\n",
       "    </tr>\n",
       "    <tr>\n",
       "      <th>Misc</th>\n",
       "      <td>0.405290</td>\n",
       "      <td>0.100</td>\n",
       "      <td>1.007985</td>\n",
       "      <td>1.016033</td>\n",
       "    </tr>\n",
       "    <tr>\n",
       "      <th>Platform</th>\n",
       "      <td>0.576081</td>\n",
       "      <td>0.225</td>\n",
       "      <td>0.806808</td>\n",
       "      <td>0.650939</td>\n",
       "    </tr>\n",
       "    <tr>\n",
       "      <th>Puzzle</th>\n",
       "      <td>0.186471</td>\n",
       "      <td>0.060</td>\n",
       "      <td>0.325172</td>\n",
       "      <td>0.105737</td>\n",
       "    </tr>\n",
       "    <tr>\n",
       "      <th>Racing</th>\n",
       "      <td>0.469294</td>\n",
       "      <td>0.120</td>\n",
       "      <td>0.964101</td>\n",
       "      <td>0.929490</td>\n",
       "    </tr>\n",
       "    <tr>\n",
       "      <th>Role-Playing</th>\n",
       "      <td>0.499623</td>\n",
       "      <td>0.125</td>\n",
       "      <td>1.353164</td>\n",
       "      <td>1.831052</td>\n",
       "    </tr>\n",
       "    <tr>\n",
       "      <th>Shooter</th>\n",
       "      <td>1.245882</td>\n",
       "      <td>0.450</td>\n",
       "      <td>2.014107</td>\n",
       "      <td>4.056627</td>\n",
       "    </tr>\n",
       "    <tr>\n",
       "      <th>Simulation</th>\n",
       "      <td>0.350968</td>\n",
       "      <td>0.100</td>\n",
       "      <td>0.849163</td>\n",
       "      <td>0.721078</td>\n",
       "    </tr>\n",
       "    <tr>\n",
       "      <th>Sports</th>\n",
       "      <td>0.703972</td>\n",
       "      <td>0.240</td>\n",
       "      <td>1.219237</td>\n",
       "      <td>1.486540</td>\n",
       "    </tr>\n",
       "    <tr>\n",
       "      <th>Strategy</th>\n",
       "      <td>0.180000</td>\n",
       "      <td>0.080</td>\n",
       "      <td>0.279441</td>\n",
       "      <td>0.078087</td>\n",
       "    </tr>\n",
       "  </tbody>\n",
       "</table>\n",
       "</div>"
      ],
      "text/plain": [
       "                    mean      median         std         var\n",
       "             total_sales total_sales total_sales total_sales\n",
       "genre                                                       \n",
       "Action          0.420196       0.110    1.253909    1.572289\n",
       "Adventure       0.096490       0.030    0.216445    0.046848\n",
       "Fighting        0.441375       0.125    1.048883    1.100156\n",
       "Misc            0.405290       0.100    1.007985    1.016033\n",
       "Platform        0.576081       0.225    0.806808    0.650939\n",
       "Puzzle          0.186471       0.060    0.325172    0.105737\n",
       "Racing          0.469294       0.120    0.964101    0.929490\n",
       "Role-Playing    0.499623       0.125    1.353164    1.831052\n",
       "Shooter         1.245882       0.450    2.014107    4.056627\n",
       "Simulation      0.350968       0.100    0.849163    0.721078\n",
       "Sports          0.703972       0.240    1.219237    1.486540\n",
       "Strategy        0.180000       0.080    0.279441    0.078087"
      ]
     },
     "execution_count": 22,
     "metadata": {},
     "output_type": "execute_result"
    }
   ],
   "source": [
    "# Plot box plots for total sales broken down by genres\n",
    "plt.figure()\n",
    "df.boxplot(column='total_sales', by='genre', figsize=(20, 5))\n",
    "plt.title('Total Sales of Games by Genres')\n",
    "plt.xlabel('genre')\n",
    "plt.ylabel('Total Sales (Millions)')\n",
    "plt.yscale('log')  # Use logarithmic scale for better visualization\n",
    "plt.show()\n",
    "\n",
    "# Calculate the mean, median, std dev and variance of the total sales by platform\n",
    "df.pivot_table(index='genre', values=['total_sales'], aggfunc=['mean', 'median', 'std', 'var'])"
   ]
  },
  {
   "cell_type": "markdown",
   "metadata": {},
   "source": [
    "We can see with the chart above that Shooter game genres take the lead in sales at that time, while Sports, Platform, Fighting and Action follow behind. Adventure looks to have the least, followed by Puzzle, Strategy and Simulation game genres. This can be useful information to add but need to take other data and information to come up with a better conclusion. It can give a general insight that the top selling genres have a broader apppeal to the general public. While Adventure, strategy and platform have more of a certain type of clientele."
   ]
  },
  {
   "cell_type": "markdown",
   "metadata": {},
   "source": [
    "Video Games and Regions\n",
    "Identify the regions that have the top gaming platforms. Will utilize the sales to gauge the highest selling gaming platforms."
   ]
  },
  {
   "cell_type": "code",
   "execution_count": 23,
   "metadata": {},
   "outputs": [
    {
     "name": "stdout",
     "output_type": "stream",
     "text": [
      "platform\n",
      "PS4     108.74\n",
      "XOne     93.12\n",
      "X360     81.66\n",
      "PS3      63.50\n",
      "3DS      38.20\n",
      "Name: na_sales, dtype: float64\n",
      "\n",
      "platform\n",
      "PS4     141.09\n",
      "PS3      67.81\n",
      "XOne     51.59\n",
      "X360     42.52\n",
      "3DS      30.96\n",
      "Name: eu_sales, dtype: float64\n",
      "\n",
      "platform\n",
      "3DS     67.81\n",
      "PS3     23.35\n",
      "PSV     18.59\n",
      "PS4     15.96\n",
      "WiiU    10.88\n",
      "Name: jp_sales, dtype: float64\n",
      "\n"
     ]
    },
    {
     "data": {
      "image/png": "[encoded data removed]",
      "text/plain": [
       "<Figure size 2000x1000 with 1 Axes>"
      ]
     },
     "metadata": {},
     "output_type": "display_data"
    }
   ],
   "source": [
    "# Group by platform and sum sales for each region\n",
    "\n",
    "# North America\n",
    "top_5_plat_na = df.groupby('platform')['na_sales'].sum()\n",
    "print(top_5_plat_na.sort_values(ascending=False).head())\n",
    "print()\n",
    "\n",
    "# Europe\n",
    "top_5_plat_eu = df.groupby('platform')['eu_sales'].sum()\n",
    "print(top_5_plat_eu.sort_values(ascending=False).head())\n",
    "print()\n",
    "\n",
    "# Japan\n",
    "top_5_plat_jp = df.groupby('platform')['jp_sales'].sum()\n",
    "print(top_5_plat_jp.sort_values(ascending=False).head())\n",
    "print()\n",
    "\n",
    "# Plot\n",
    "fig, ax = plt.subplots(figsize=(20, 10))\n",
    "plt.bar(top_5_plat_na.index, top_5_plat_na, label='NA', alpha=0.8)\n",
    "plt.bar(top_5_plat_eu.index, top_5_plat_eu, label='EU', alpha=0.8)\n",
    "plt.bar(top_5_plat_jp.index, top_5_plat_jp, label='JP', alpha=0.8)\n",
    "\n",
    "plt.title('Region Sales per Platform')\n",
    "plt.xlabel('Platforms')\n",
    "plt.ylabel('Sales (Millions)')\n",
    "plt.legend(title='Region')\n",
    "plt.show()"
   ]
  },
  {
   "cell_type": "markdown",
   "metadata": {},
   "source": [
    "Looking at the numbers and graph, the PS4 has the highest sales overall, as well as leads in Northa American and EU sales. In Japan it was the 3DS that lead the other platform which may point to a preference of handheld games there versus some of the major less portable platforms. Unortunatly in EU and North American markets the 3DS came up last."
   ]
  },
  {
   "cell_type": "markdown",
   "metadata": {},
   "source": [
    "Most Popular Gaame Genres by Region\n",
    "We will investivate how the top five genres looked like in the North American, EU and Japan markets in sales. "
   ]
  },
  {
   "cell_type": "code",
   "execution_count": 24,
   "metadata": {},
   "outputs": [
    {
     "name": "stdout",
     "output_type": "stream",
     "text": [
      "genre\n",
      "Action          126.05\n",
      "Shooter         109.74\n",
      "Sports           65.27\n",
      "Role-Playing     46.40\n",
      "Misc             27.49\n",
      "Name: na_sales, dtype: float64\n",
      "\n",
      "genre\n",
      "Action          118.13\n",
      "Shooter          87.86\n",
      "Sports           60.52\n",
      "Role-Playing     36.97\n",
      "Racing           20.19\n",
      "Name: eu_sales, dtype: float64\n",
      "\n",
      "genre\n",
      "Role-Playing    51.04\n",
      "Action          40.49\n",
      "Misc             9.20\n",
      "Fighting         7.65\n",
      "Shooter          6.61\n",
      "Name: jp_sales, dtype: float64\n",
      "\n"
     ]
    },
    {
     "data": {
      "image/png": "[encoded data removed]",
      "text/plain": [
       "<Figure size 2000x500 with 1 Axes>"
      ]
     },
     "metadata": {},
     "output_type": "display_data"
    }
   ],
   "source": [
    "# Group by genre and sum sales for each region\n",
    "\n",
    "# North America\n",
    "na_genre_sales = df.groupby('genre')['na_sales'].sum()\n",
    "print(na_genre_sales.sort_values(ascending=False).head())\n",
    "print()\n",
    "\n",
    "# Europe\n",
    "eu_genre_sales = df.groupby('genre')['eu_sales'].sum()\n",
    "print(eu_genre_sales.sort_values(ascending=False).head())\n",
    "print()\n",
    "\n",
    "# Japan\n",
    "jp_genre_sales = df.groupby('genre')['jp_sales'].sum()\n",
    "print(jp_genre_sales.sort_values(ascending=False).head())\n",
    "print()\n",
    "\n",
    "# Plot\n",
    "fig, ax = plt.subplots(figsize=(20, 5))\n",
    "plt.bar(na_genre_sales.index, na_genre_sales, label='NA', alpha=0.7)\n",
    "plt.bar(eu_genre_sales.index, eu_genre_sales, label='EU', alpha=0.7)\n",
    "plt.bar(jp_genre_sales.index, jp_genre_sales, label='JP', alpha=0.7)\n",
    "\n",
    "plt.title('Region Sales per Game Genre')\n",
    "plt.xlabel('Genres')\n",
    "plt.ylabel('Sales (Millions)')\n",
    "plt.legend(title='Region')\n",
    "plt.show()"
   ]
  },
  {
   "cell_type": "markdown",
   "metadata": {},
   "source": [
    "From the data and graph it seems like Action is the top selling genre in all three markets all together, being first in Noprth American and EU and falling only second in Japan. Shooter games are second in popularity in North American and EU but much less popular in Japan. Alternatively, role playing games are very first in sales in Japan and running a in the middle of the pack in North America and EU.\n"
   ]
  },
  {
   "cell_type": "markdown",
   "metadata": {},
   "source": [
    "Compare Ratings vs Regional Sales\n",
    "Will look at the top five ratings in each of the region and then we can use it to help hypothesize how ratings affect profit."
   ]
  },
  {
   "cell_type": "code",
   "execution_count": 25,
   "metadata": {},
   "outputs": [
    {
     "name": "stdout",
     "output_type": "stream",
     "text": [
      "rating\n",
      "M       165.21\n",
      "U        89.42\n",
      "E        79.05\n",
      "E10+     54.24\n",
      "T        49.79\n",
      "Name: na_sales, dtype: float64\n",
      "\n",
      "rating\n",
      "M       145.32\n",
      "E        83.36\n",
      "U        78.91\n",
      "E10+     42.69\n",
      "T        41.95\n",
      "Name: eu_sales, dtype: float64\n",
      "\n",
      "rating\n",
      "U       85.05\n",
      "T       20.59\n",
      "E       15.14\n",
      "M       14.11\n",
      "E10+     5.89\n",
      "Name: jp_sales, dtype: float64\n",
      "\n"
     ]
    },
    {
     "data": {
      "image/png": "[encoded data removed]",
      "text/plain": [
       "<Figure size 2000x500 with 1 Axes>"
      ]
     },
     "metadata": {},
     "output_type": "display_data"
    }
   ],
   "source": [
    "# Group by rating and sum sales for each region\n",
    "\n",
    "# North America\n",
    "na_rating_sales = df.groupby('rating')['na_sales'].sum()\n",
    "print(na_rating_sales.sort_values(ascending=False).head())\n",
    "print()\n",
    "\n",
    "# Europe\n",
    "eu_rating_sales = df.groupby('rating')['eu_sales'].sum()\n",
    "print(eu_rating_sales.sort_values(ascending=False).head())\n",
    "print()\n",
    "\n",
    "# Japan\n",
    "jp_rating_sales = df.groupby('rating')['jp_sales'].sum()\n",
    "print(jp_rating_sales.sort_values(ascending=False).head())\n",
    "print()\n",
    "\n",
    "# Plot\n",
    "fig, ax = plt.subplots(figsize=(20, 5))\n",
    "plt.bar(na_rating_sales.index, na_rating_sales, label='NA', alpha=0.7)\n",
    "plt.bar(eu_rating_sales.index, eu_rating_sales, label='EU', alpha=0.7)\n",
    "plt.bar(jp_rating_sales.index, jp_rating_sales, label='JP', alpha=0.7)\n",
    "\n",
    "plt.title('Region Sales per Game Rating')\n",
    "plt.xlabel('Ratings')\n",
    "plt.ylabel('Sales (Millions)')\n",
    "plt.legend(title='Region')\n",
    "plt.show()"
   ]
  },
  {
   "cell_type": "markdown",
   "metadata": {},
   "source": [
    "The data shows that the 'M' (Mature) games are more popular and sell more than the rest, which are followed by 'U' (Unknown) and 'E' (Everyone). It is worth pointing out that Japan has a lot of the 'U' rated games which may indicate games that are not officially rated are more of the norm in Japan. Japan appears to have a different rating system (Cero rating system) that may point to this irregularity of prominant 'U' rated games. Further data in their rating system may need to be investigated to help fill in the 'U' gaps with Japan."
   ]
  },
  {
   "cell_type": "markdown",
   "metadata": {},
   "source": [
    "Test Hypothesis\n",
    "We will test the hypothesis from the average user ratings of the Xbox One and PC platforms are the same. We will do so using via independent samples t-test.\n",
    "\n",
    "To set up the test we need to forumate a null and alternative hypothesis. For the comparison of average user ratings between the Xbox One and PC platforms, the null hypothesis (H0) states that the mean user ratings for both platforms are equal, while the alternative hypothesis (H1) suggests they are not equal.\n",
    "\n",
    "To conduct the hypothesis test, I chose a significance level (alpha) of 0.1. This significance level was selected as it provides a balanced approach, allowing for a reasonable chance of detecting real differences without overly increasing the risk of making Type I errors, where we reject a true null hypothesis. For marketing purposes 0.1 for the alpha is satisfactory."
   ]
  },
  {
   "cell_type": "code",
   "execution_count": 26,
   "metadata": {},
   "outputs": [
    {
     "name": "stdout",
     "output_type": "stream",
     "text": [
      "p-value: 0.2487594853708977\n",
      "\n",
      "We cannot reject the null hypothesis.\n"
     ]
    }
   ],
   "source": [
    "# Test the hypotheses\n",
    "  \n",
    " #h0 = Average user ratings of the Xbox One and PC platforms are the same. \n",
    " #h1 = Average user ratings of the Xbox One and PC platforms are NOT the same.\n",
    "   \n",
    "df[df['user_score'] != 0]\n",
    "xbox_one_avg_rate = df[df['platform'] == 'XOne']['user_score'] \n",
    "pc_avg_rate = df[df['platform'] == 'PC']['user_score']\n",
    "\n",
    "# Perform independent samples t-test\n",
    "results = st.ttest_ind(xbox_one_avg_rate, pc_avg_rate)\n",
    "\n",
    "print('p-value:', results.pvalue)\n",
    "print()\n",
    "\n",
    "# Check the p-value against alpha\n",
    "alpha = 0.1\n",
    "\n",
    "if results.pvalue < alpha:\n",
    "    print(\"We reject the null hypothesis.\")\n",
    "\n",
    "else:\n",
    "    print(\"We cannot reject the null hypothesis.\")"
   ]
  },
  {
   "cell_type": "markdown",
   "metadata": {},
   "source": [
    "With a p-value of 0.24, which is greater than the chosen significance level of 0.1, we cannot reject the null hypothesis. This suggests that there is not a statistically significant difference in average user ratings between the Xbox One and PC platforms. Therefore, we can conclude that the average user ratings for these two platforms are the same.\n",
    "\n",
    "Next I will test the hypothesis on adventure and strategy genres to see if there is a difference.\n",
    "The null hypothesis (H0) indicate that the mean user ratings for both genres are the same, while the alternative hypothesis (H1) suggests they are different. The significance value (0.1) was chosen for the same reason stated in the previous test."
   ]
  },
  {
   "cell_type": "code",
   "execution_count": 29,
   "metadata": {},
   "outputs": [
    {
     "name": "stdout",
     "output_type": "stream",
     "text": [
      "p-value: 0.09074207113403288\n",
      "\n",
      "We reject the null hypothesis.\n"
     ]
    }
   ],
   "source": [
    "# Test the hypotheses\n",
    "  \n",
    " #h0 = Average user ratings for the Action and Sports genres are the same.\n",
    " #h1 = Average user ratings for the Action and Sports genres are NOT the same.\n",
    "\n",
    "df[df['user_score'] != 0]\n",
    "act_avg_rate = df[df['genre'] == 'Action'] ['user_score']\n",
    "sprt_avg_rate = df[df['genre'] == 'Sports']['user_score']\n",
    "\n",
    "# Perform independent samples t-test\n",
    "results = st.ttest_ind(act_avg_rate, sprt_avg_rate, nan_policy='omit')\n",
    "\n",
    "print('p-value:', results.pvalue)\n",
    "print()\n",
    "\n",
    "# Check the p-value against alpha\n",
    "alpha = 0.10\n",
    "\n",
    "if results.pvalue < alpha:\n",
    "    print(\"We reject the null hypothesis.\")\n",
    "\n",
    "else:\n",
    "    print(\"We cannot reject the null hypothesis.\")"
   ]
  },
  {
   "cell_type": "markdown",
   "metadata": {},
   "source": [
    "The p-value came up with 0.09, which in less than the 0.1 for alpha setting, which leads to rejecting the null hypothesis. We can conclude that there is a statistically significant difference in average user ratings between the Action and Sports genres. We can then accept the alternative hypothesis that the average user ratings for these two genres are not the same."
   ]
  },
  {
   "cell_type": "markdown",
   "metadata": {},
   "source": [
    "Conclusion\n",
    "\n",
    "There are several key conclusions that we can take away from our thorough data analaysis of the gaming industry during the period of 1980-2016. In particular during the 1990's and mid 2010 we see a huge surge in game releases with the years 2008 and 2009 being at the peak. During the years we see that some older consoles like the PS2 had a long period of releases that may be a indicator at the time that it was extremely popular and those who purchased a PS2 may have been satisfied for a long period of time from what the data shows for other platforms. By narrowing the focus at 2006 and on allowed a more narrow perspective that showed high sales and the transition period of gaming consoles.Analyzing and comparing game sales of the gaming platforms pointed to Fifa 14 and Lego Marvel Super Heroes having high sales on the PS3, PS4 and XBox 360. Game genres  showed that shooter games were the highest, with sports and platforms following behind. Looking at the geographical similarities and differences provided some insight on changes in preferences as a whole. North America and Europe showed they preferred action games, while Japan seemed to prefer role-playing.Game ratings showed 'M' (Mature rating) to be popular in North America and Europe markets, with 'E' (Everyone rating) followed behind. Hypothesis testing further affirmed and unaffrimed distinctions, with no statistically significant differences observed in average user ratings in regard to platforms, but rather with genres. In conclusion, the findings help provide a comprehensiive understanding of the gaming landscape and can help provide stakeholders perspective on gaming trends in North America, Europe and Japan, which can help make marketing decisions in the gaming industry."
   ]
  }
 ],
 "metadata": {
  "ExecuteTimeLog": [
   {
    "duration": 7,
    "start_time": "2024-10-27T21:17:04.563Z"
   },
   {
    "duration": 2453,
    "start_time": "2024-10-27T21:17:23.821Z"
   },
   {
    "duration": 3,
    "start_time": "2024-10-27T21:17:26.277Z"
   },
   {
    "duration": 4,
    "start_time": "2024-10-27T21:19:20.625Z"
   },
   {
    "duration": 3,
    "start_time": "2024-10-27T21:19:32.891Z"
   },
   {
    "duration": 3,
    "start_time": "2024-10-27T21:21:55.828Z"
   },
   {
    "duration": 4,
    "start_time": "2024-10-27T21:23:16.377Z"
   },
   {
    "duration": 734,
    "start_time": "2024-10-27T21:30:58.077Z"
   },
   {
    "duration": 4,
    "start_time": "2024-10-27T21:30:58.813Z"
   },
   {
    "duration": 4,
    "start_time": "2024-10-27T21:31:17.126Z"
   },
   {
    "duration": 4,
    "start_time": "2024-10-27T21:32:17.192Z"
   },
   {
    "duration": 549,
    "start_time": "2024-10-27T21:35:20.753Z"
   },
   {
    "duration": 789,
    "start_time": "2024-10-27T21:37:06.320Z"
   },
   {
    "duration": 568,
    "start_time": "2024-10-27T21:37:07.112Z"
   },
   {
    "duration": 4,
    "start_time": "2024-10-27T21:38:40.670Z"
   },
   {
    "duration": 59,
    "start_time": "2024-10-27T21:39:16.524Z"
   },
   {
    "duration": 59,
    "start_time": "2024-10-27T21:48:35.560Z"
   },
   {
    "duration": 754,
    "start_time": "2024-10-27T21:50:13.742Z"
   },
   {
    "duration": 555,
    "start_time": "2024-10-27T21:50:14.499Z"
   },
   {
    "duration": 3,
    "start_time": "2024-10-27T21:51:16.139Z"
   },
   {
    "duration": 59,
    "start_time": "2024-10-27T21:51:33.913Z"
   },
   {
    "duration": 58,
    "start_time": "2024-10-27T21:57:54.998Z"
   },
   {
    "duration": 743,
    "start_time": "2024-10-27T21:58:12.164Z"
   },
   {
    "duration": 566,
    "start_time": "2024-10-27T21:58:12.910Z"
   },
   {
    "duration": 4,
    "start_time": "2024-10-27T22:00:07.197Z"
   },
   {
    "duration": 60,
    "start_time": "2024-10-27T22:00:26.066Z"
   },
   {
    "duration": 59,
    "start_time": "2024-10-27T22:00:39.379Z"
   },
   {
    "duration": 60,
    "start_time": "2024-10-27T22:04:05.716Z"
   },
   {
    "duration": 58,
    "start_time": "2024-10-27T22:05:51.442Z"
   },
   {
    "duration": 58,
    "start_time": "2024-10-27T22:09:31.350Z"
   },
   {
    "duration": 791,
    "start_time": "2024-10-27T22:11:10.850Z"
   },
   {
    "duration": 600,
    "start_time": "2024-10-27T22:11:11.644Z"
   },
   {
    "duration": 2466,
    "start_time": "2024-10-28T01:39:41.155Z"
   },
   {
    "duration": 5,
    "start_time": "2024-10-28T01:39:43.624Z"
   },
   {
    "duration": 5,
    "start_time": "2024-10-28T01:39:57.490Z"
   },
   {
    "duration": 569,
    "start_time": "2024-10-28T01:40:38.086Z"
   },
   {
    "duration": 748,
    "start_time": "2024-10-28T01:45:46.729Z"
   },
   {
    "duration": 35,
    "start_time": "2024-10-28T01:45:47.479Z"
   },
   {
    "duration": 12,
    "start_time": "2024-10-28T01:47:58.623Z"
   },
   {
    "duration": 235,
    "start_time": "2024-10-28T01:48:43.622Z"
   },
   {
    "duration": 20,
    "start_time": "2024-10-28T01:48:53.068Z"
   },
   {
    "duration": 15,
    "start_time": "2024-10-28T01:51:35.339Z"
   },
   {
    "duration": 13,
    "start_time": "2024-10-28T01:51:42.061Z"
   },
   {
    "duration": 4,
    "start_time": "2024-10-28T01:51:49.407Z"
   },
   {
    "duration": 38,
    "start_time": "2024-10-28T02:50:24.989Z"
   },
   {
    "duration": 24,
    "start_time": "2024-10-28T02:58:23.688Z"
   },
   {
    "duration": 15,
    "start_time": "2024-10-28T03:04:57.212Z"
   },
   {
    "duration": 24,
    "start_time": "2024-10-28T03:05:27.851Z"
   },
   {
    "duration": 16,
    "start_time": "2024-10-28T03:05:41.847Z"
   },
   {
    "duration": 14,
    "start_time": "2024-10-28T03:13:10.159Z"
   },
   {
    "duration": 20,
    "start_time": "2024-10-28T03:13:25.912Z"
   },
   {
    "duration": 19,
    "start_time": "2024-10-28T03:14:41.780Z"
   },
   {
    "duration": 26,
    "start_time": "2024-10-28T03:20:35.123Z"
   },
   {
    "duration": 396,
    "start_time": "2024-10-28T03:25:56.762Z"
   },
   {
    "duration": 20,
    "start_time": "2024-10-28T03:26:09.428Z"
   },
   {
    "duration": 796,
    "start_time": "2024-10-28T03:27:09.175Z"
   },
   {
    "duration": 26,
    "start_time": "2024-10-28T03:27:09.974Z"
   },
   {
    "duration": 22,
    "start_time": "2024-10-28T03:27:10.001Z"
   },
   {
    "duration": 436,
    "start_time": "2024-10-28T03:27:10.042Z"
   },
   {
    "duration": 0,
    "start_time": "2024-10-28T03:27:10.480Z"
   },
   {
    "duration": 0,
    "start_time": "2024-10-28T03:27:10.482Z"
   },
   {
    "duration": 0,
    "start_time": "2024-10-28T03:27:10.484Z"
   },
   {
    "duration": 0,
    "start_time": "2024-10-28T03:27:10.487Z"
   },
   {
    "duration": 0,
    "start_time": "2024-10-28T03:27:10.488Z"
   },
   {
    "duration": 747,
    "start_time": "2024-10-28T03:29:53.382Z"
   },
   {
    "duration": 27,
    "start_time": "2024-10-28T03:29:54.132Z"
   },
   {
    "duration": 21,
    "start_time": "2024-10-28T03:29:54.161Z"
   },
   {
    "duration": 228,
    "start_time": "2024-10-28T03:29:54.184Z"
   },
   {
    "duration": 0,
    "start_time": "2024-10-28T03:29:54.415Z"
   },
   {
    "duration": 0,
    "start_time": "2024-10-28T03:29:54.415Z"
   },
   {
    "duration": 0,
    "start_time": "2024-10-28T03:29:54.417Z"
   },
   {
    "duration": 0,
    "start_time": "2024-10-28T03:29:54.418Z"
   },
   {
    "duration": 0,
    "start_time": "2024-10-28T03:29:54.419Z"
   },
   {
    "duration": 0,
    "start_time": "2024-10-28T03:29:54.420Z"
   },
   {
    "duration": 740,
    "start_time": "2024-10-28T03:30:13.231Z"
   },
   {
    "duration": 23,
    "start_time": "2024-10-28T03:30:13.974Z"
   },
   {
    "duration": 21,
    "start_time": "2024-10-28T03:30:13.999Z"
   },
   {
    "duration": 22,
    "start_time": "2024-10-28T03:30:14.021Z"
   },
   {
    "duration": 18,
    "start_time": "2024-10-28T03:30:14.047Z"
   },
   {
    "duration": 22,
    "start_time": "2024-10-28T03:30:14.067Z"
   },
   {
    "duration": 17,
    "start_time": "2024-10-28T03:30:14.091Z"
   },
   {
    "duration": 43,
    "start_time": "2024-10-28T03:30:14.110Z"
   },
   {
    "duration": 809,
    "start_time": "2024-10-28T03:30:14.154Z"
   },
   {
    "duration": 0,
    "start_time": "2024-10-28T03:30:14.964Z"
   },
   {
    "duration": 29,
    "start_time": "2024-10-28T03:31:00.600Z"
   },
   {
    "duration": 53,
    "start_time": "2024-10-28T03:31:38.216Z"
   },
   {
    "duration": 744,
    "start_time": "2024-10-28T03:32:54.126Z"
   },
   {
    "duration": 26,
    "start_time": "2024-10-28T03:32:54.872Z"
   },
   {
    "duration": 21,
    "start_time": "2024-10-28T03:32:54.899Z"
   },
   {
    "duration": 3,
    "start_time": "2024-10-28T03:32:54.922Z"
   },
   {
    "duration": 17,
    "start_time": "2024-10-28T03:32:54.942Z"
   },
   {
    "duration": 23,
    "start_time": "2024-10-28T03:32:54.960Z"
   },
   {
    "duration": 18,
    "start_time": "2024-10-28T03:32:54.985Z"
   },
   {
    "duration": 51,
    "start_time": "2024-10-28T03:32:55.005Z"
   },
   {
    "duration": 3,
    "start_time": "2024-10-28T03:37:55.596Z"
   },
   {
    "duration": 23,
    "start_time": "2024-10-28T03:37:55.601Z"
   },
   {
    "duration": 18,
    "start_time": "2024-10-28T03:37:55.626Z"
   },
   {
    "duration": 3,
    "start_time": "2024-10-28T03:37:55.647Z"
   },
   {
    "duration": 15,
    "start_time": "2024-10-28T03:37:55.653Z"
   },
   {
    "duration": 24,
    "start_time": "2024-10-28T03:37:55.670Z"
   },
   {
    "duration": 19,
    "start_time": "2024-10-28T03:37:55.695Z"
   },
   {
    "duration": 48,
    "start_time": "2024-10-28T03:37:55.715Z"
   },
   {
    "duration": 12,
    "start_time": "2024-10-28T03:39:24.027Z"
   },
   {
    "duration": 20,
    "start_time": "2024-10-28T03:40:09.000Z"
   },
   {
    "duration": 12,
    "start_time": "2024-10-28T03:40:22.029Z"
   },
   {
    "duration": 20,
    "start_time": "2024-10-28T03:41:16.698Z"
   },
   {
    "duration": 792,
    "start_time": "2024-10-28T03:41:44.459Z"
   },
   {
    "duration": 26,
    "start_time": "2024-10-28T03:41:45.253Z"
   },
   {
    "duration": 23,
    "start_time": "2024-10-28T03:41:45.280Z"
   },
   {
    "duration": 3,
    "start_time": "2024-10-28T03:41:45.305Z"
   },
   {
    "duration": 42,
    "start_time": "2024-10-28T03:41:45.310Z"
   },
   {
    "duration": 24,
    "start_time": "2024-10-28T03:41:45.354Z"
   },
   {
    "duration": 18,
    "start_time": "2024-10-28T03:41:45.380Z"
   },
   {
    "duration": 47,
    "start_time": "2024-10-28T03:41:45.400Z"
   },
   {
    "duration": 12,
    "start_time": "2024-10-28T03:41:45.449Z"
   },
   {
    "duration": 761,
    "start_time": "2024-10-28T03:42:50.853Z"
   },
   {
    "duration": 26,
    "start_time": "2024-10-28T03:42:51.617Z"
   },
   {
    "duration": 22,
    "start_time": "2024-10-28T03:42:51.644Z"
   },
   {
    "duration": 4,
    "start_time": "2024-10-28T03:42:51.667Z"
   },
   {
    "duration": 17,
    "start_time": "2024-10-28T03:42:51.673Z"
   },
   {
    "duration": 52,
    "start_time": "2024-10-28T03:42:51.692Z"
   },
   {
    "duration": 19,
    "start_time": "2024-10-28T03:42:51.746Z"
   },
   {
    "duration": 22,
    "start_time": "2024-10-28T03:42:51.766Z"
   },
   {
    "duration": 12,
    "start_time": "2024-10-28T03:42:51.790Z"
   },
   {
    "duration": 24,
    "start_time": "2024-10-28T03:49:33.877Z"
   },
   {
    "duration": 20,
    "start_time": "2024-10-28T03:57:31.508Z"
   },
   {
    "duration": 273,
    "start_time": "2024-10-28T03:59:54.348Z"
   },
   {
    "duration": 2549,
    "start_time": "2024-10-29T02:04:50.667Z"
   },
   {
    "duration": 35,
    "start_time": "2024-10-29T02:04:53.218Z"
   },
   {
    "duration": 22,
    "start_time": "2024-10-29T02:04:53.255Z"
   },
   {
    "duration": 3,
    "start_time": "2024-10-29T02:04:53.278Z"
   },
   {
    "duration": 18,
    "start_time": "2024-10-29T02:04:53.284Z"
   },
   {
    "duration": 45,
    "start_time": "2024-10-29T02:04:53.303Z"
   },
   {
    "duration": 18,
    "start_time": "2024-10-29T02:04:53.349Z"
   },
   {
    "duration": 22,
    "start_time": "2024-10-29T02:04:53.369Z"
   },
   {
    "duration": 11,
    "start_time": "2024-10-29T02:04:53.392Z"
   },
   {
    "duration": 20,
    "start_time": "2024-10-29T02:04:53.432Z"
   },
   {
    "duration": 20,
    "start_time": "2024-10-29T02:04:53.454Z"
   },
   {
    "duration": 299,
    "start_time": "2024-10-29T02:04:53.475Z"
   },
   {
    "duration": 222,
    "start_time": "2024-10-29T02:06:01.676Z"
   },
   {
    "duration": 298,
    "start_time": "2024-10-29T02:06:16.752Z"
   },
   {
    "duration": 219,
    "start_time": "2024-10-29T02:06:23.494Z"
   },
   {
    "duration": 240,
    "start_time": "2024-10-29T02:06:34.654Z"
   },
   {
    "duration": 166,
    "start_time": "2024-10-29T02:06:50.070Z"
   },
   {
    "duration": 240,
    "start_time": "2024-10-29T02:07:02.758Z"
   },
   {
    "duration": 17,
    "start_time": "2024-10-29T02:19:16.811Z"
   },
   {
    "duration": 20,
    "start_time": "2024-10-29T02:20:09.187Z"
   },
   {
    "duration": 20,
    "start_time": "2024-10-29T02:20:59.604Z"
   },
   {
    "duration": 223,
    "start_time": "2024-10-29T02:21:09.797Z"
   },
   {
    "duration": 15,
    "start_time": "2024-10-29T02:50:41.204Z"
   },
   {
    "duration": 10,
    "start_time": "2024-10-29T02:50:46.213Z"
   },
   {
    "duration": 22,
    "start_time": "2024-10-29T02:53:54.124Z"
   },
   {
    "duration": 562,
    "start_time": "2024-10-29T02:54:10.570Z"
   },
   {
    "duration": 156,
    "start_time": "2024-10-29T03:09:39.320Z"
   },
   {
    "duration": 151,
    "start_time": "2024-10-29T03:25:09.701Z"
   },
   {
    "duration": 6,
    "start_time": "2024-10-29T03:43:23.949Z"
   },
   {
    "duration": 215,
    "start_time": "2024-10-29T03:45:01.376Z"
   },
   {
    "duration": 2523,
    "start_time": "2024-10-31T15:45:23.478Z"
   },
   {
    "duration": 36,
    "start_time": "2024-10-31T15:45:26.003Z"
   },
   {
    "duration": 22,
    "start_time": "2024-10-31T15:45:26.041Z"
   },
   {
    "duration": 3,
    "start_time": "2024-10-31T15:45:26.065Z"
   },
   {
    "duration": 16,
    "start_time": "2024-10-31T15:45:26.072Z"
   },
   {
    "duration": 42,
    "start_time": "2024-10-31T15:45:26.089Z"
   },
   {
    "duration": 20,
    "start_time": "2024-10-31T15:45:26.133Z"
   },
   {
    "duration": 22,
    "start_time": "2024-10-31T15:45:26.155Z"
   },
   {
    "duration": 36,
    "start_time": "2024-10-31T15:45:26.179Z"
   },
   {
    "duration": 20,
    "start_time": "2024-10-31T15:45:26.217Z"
   },
   {
    "duration": 20,
    "start_time": "2024-10-31T15:45:26.239Z"
   },
   {
    "duration": 304,
    "start_time": "2024-10-31T15:45:26.261Z"
   },
   {
    "duration": 261,
    "start_time": "2024-10-31T15:45:26.567Z"
   },
   {
    "duration": 259,
    "start_time": "2024-10-31T15:45:26.831Z"
   },
   {
    "duration": 10,
    "start_time": "2024-10-31T15:45:27.092Z"
   },
   {
    "duration": 555,
    "start_time": "2024-10-31T15:45:27.104Z"
   },
   {
    "duration": 172,
    "start_time": "2024-10-31T15:45:27.660Z"
   },
   {
    "duration": 166,
    "start_time": "2024-10-31T15:45:27.834Z"
   },
   {
    "duration": 11,
    "start_time": "2024-10-31T15:45:28.003Z"
   },
   {
    "duration": 233,
    "start_time": "2024-10-31T15:45:28.016Z"
   },
   {
    "duration": 194,
    "start_time": "2024-10-31T15:45:28.251Z"
   },
   {
    "duration": 2520,
    "start_time": "2024-11-02T21:59:44.068Z"
   },
   {
    "duration": 35,
    "start_time": "2024-11-02T21:59:46.590Z"
   },
   {
    "duration": 22,
    "start_time": "2024-11-02T21:59:46.626Z"
   },
   {
    "duration": 3,
    "start_time": "2024-11-02T21:59:46.649Z"
   },
   {
    "duration": 16,
    "start_time": "2024-11-02T21:59:46.656Z"
   },
   {
    "duration": 43,
    "start_time": "2024-11-02T21:59:46.674Z"
   },
   {
    "duration": 18,
    "start_time": "2024-11-02T21:59:46.719Z"
   },
   {
    "duration": 21,
    "start_time": "2024-11-02T21:59:46.738Z"
   },
   {
    "duration": 11,
    "start_time": "2024-11-02T21:59:46.760Z"
   },
   {
    "duration": 47,
    "start_time": "2024-11-02T21:59:46.773Z"
   },
   {
    "duration": 20,
    "start_time": "2024-11-02T21:59:46.821Z"
   },
   {
    "duration": 295,
    "start_time": "2024-11-02T21:59:46.842Z"
   },
   {
    "duration": 253,
    "start_time": "2024-11-02T21:59:47.139Z"
   },
   {
    "duration": 245,
    "start_time": "2024-11-02T21:59:47.395Z"
   },
   {
    "duration": 10,
    "start_time": "2024-11-02T21:59:47.642Z"
   },
   {
    "duration": 541,
    "start_time": "2024-11-02T21:59:47.654Z"
   },
   {
    "duration": 166,
    "start_time": "2024-11-02T21:59:48.197Z"
   },
   {
    "duration": 173,
    "start_time": "2024-11-02T21:59:48.365Z"
   },
   {
    "duration": 6,
    "start_time": "2024-11-02T21:59:48.540Z"
   },
   {
    "duration": 227,
    "start_time": "2024-11-02T21:59:48.548Z"
   },
   {
    "duration": 192,
    "start_time": "2024-11-02T21:59:48.776Z"
   },
   {
    "duration": 288,
    "start_time": "2024-11-02T21:59:48.969Z"
   },
   {
    "duration": 220,
    "start_time": "2024-11-02T22:00:15.923Z"
   },
   {
    "duration": 261,
    "start_time": "2024-11-02T22:01:02.480Z"
   },
   {
    "duration": 258,
    "start_time": "2024-11-02T22:02:52.995Z"
   },
   {
    "duration": 254,
    "start_time": "2024-11-02T22:09:12.611Z"
   },
   {
    "duration": 250,
    "start_time": "2024-11-02T22:09:30.451Z"
   },
   {
    "duration": 2583,
    "start_time": "2024-11-03T01:57:13.772Z"
   },
   {
    "duration": 45,
    "start_time": "2024-11-03T01:57:16.360Z"
   },
   {
    "duration": 24,
    "start_time": "2024-11-03T01:57:16.407Z"
   },
   {
    "duration": 3,
    "start_time": "2024-11-03T01:57:16.434Z"
   },
   {
    "duration": 20,
    "start_time": "2024-11-03T01:57:16.439Z"
   },
   {
    "duration": 38,
    "start_time": "2024-11-03T01:57:16.460Z"
   },
   {
    "duration": 21,
    "start_time": "2024-11-03T01:57:16.500Z"
   },
   {
    "duration": 26,
    "start_time": "2024-11-03T01:57:16.522Z"
   },
   {
    "duration": 12,
    "start_time": "2024-11-03T01:57:16.550Z"
   },
   {
    "duration": 40,
    "start_time": "2024-11-03T01:57:16.564Z"
   },
   {
    "duration": 20,
    "start_time": "2024-11-03T01:57:16.605Z"
   },
   {
    "duration": 308,
    "start_time": "2024-11-03T01:57:16.627Z"
   },
   {
    "duration": 262,
    "start_time": "2024-11-03T01:57:16.937Z"
   },
   {
    "duration": 291,
    "start_time": "2024-11-03T01:57:17.201Z"
   },
   {
    "duration": 11,
    "start_time": "2024-11-03T01:57:17.494Z"
   },
   {
    "duration": 565,
    "start_time": "2024-11-03T01:57:17.507Z"
   },
   {
    "duration": 178,
    "start_time": "2024-11-03T01:57:18.074Z"
   },
   {
    "duration": 165,
    "start_time": "2024-11-03T01:57:18.254Z"
   },
   {
    "duration": 6,
    "start_time": "2024-11-03T01:57:18.422Z"
   },
   {
    "duration": 250,
    "start_time": "2024-11-03T01:57:18.430Z"
   },
   {
    "duration": 197,
    "start_time": "2024-11-03T01:57:18.686Z"
   },
   {
    "duration": 268,
    "start_time": "2024-11-03T01:57:18.887Z"
   },
   {
    "duration": 214,
    "start_time": "2024-11-03T02:10:38.492Z"
   },
   {
    "duration": 305,
    "start_time": "2024-11-03T02:11:06.451Z"
   },
   {
    "duration": 33,
    "start_time": "2024-11-03T02:19:13.161Z"
   },
   {
    "duration": 183,
    "start_time": "2024-11-03T02:19:30.840Z"
   },
   {
    "duration": 2534,
    "start_time": "2024-11-03T19:52:07.880Z"
   },
   {
    "duration": 35,
    "start_time": "2024-11-03T19:52:10.416Z"
   },
   {
    "duration": 22,
    "start_time": "2024-11-03T19:52:10.453Z"
   },
   {
    "duration": 4,
    "start_time": "2024-11-03T19:52:10.476Z"
   },
   {
    "duration": 26,
    "start_time": "2024-11-03T19:52:10.489Z"
   },
   {
    "duration": 38,
    "start_time": "2024-11-03T19:52:10.517Z"
   },
   {
    "duration": 20,
    "start_time": "2024-11-03T19:52:10.557Z"
   },
   {
    "duration": 21,
    "start_time": "2024-11-03T19:52:10.579Z"
   },
   {
    "duration": 11,
    "start_time": "2024-11-03T19:52:10.602Z"
   },
   {
    "duration": 23,
    "start_time": "2024-11-03T19:52:10.642Z"
   },
   {
    "duration": 20,
    "start_time": "2024-11-03T19:52:10.667Z"
   },
   {
    "duration": 320,
    "start_time": "2024-11-03T19:52:10.689Z"
   },
   {
    "duration": 257,
    "start_time": "2024-11-03T19:52:11.011Z"
   },
   {
    "duration": 256,
    "start_time": "2024-11-03T19:52:11.271Z"
   },
   {
    "duration": 10,
    "start_time": "2024-11-03T19:52:11.529Z"
   },
   {
    "duration": 550,
    "start_time": "2024-11-03T19:52:11.541Z"
   },
   {
    "duration": 167,
    "start_time": "2024-11-03T19:52:12.093Z"
   },
   {
    "duration": 159,
    "start_time": "2024-11-03T19:52:12.262Z"
   },
   {
    "duration": 6,
    "start_time": "2024-11-03T19:52:12.423Z"
   },
   {
    "duration": 227,
    "start_time": "2024-11-03T19:52:12.443Z"
   },
   {
    "duration": 191,
    "start_time": "2024-11-03T19:52:12.673Z"
   },
   {
    "duration": 276,
    "start_time": "2024-11-03T19:52:12.866Z"
   },
   {
    "duration": 243,
    "start_time": "2024-11-03T19:52:13.144Z"
   },
   {
    "duration": 191,
    "start_time": "2024-11-03T19:52:13.389Z"
   },
   {
    "duration": 5,
    "start_time": "2024-11-03T19:52:13.582Z"
   },
   {
    "duration": 6,
    "start_time": "2024-11-03T20:07:43.901Z"
   },
   {
    "duration": 298,
    "start_time": "2024-11-03T20:09:18.748Z"
   },
   {
    "duration": 7,
    "start_time": "2024-11-03T20:10:03.263Z"
   },
   {
    "duration": 6,
    "start_time": "2024-11-03T20:10:50.206Z"
   },
   {
    "duration": 15,
    "start_time": "2024-11-03T20:26:49.954Z"
   },
   {
    "duration": 6,
    "start_time": "2024-11-03T20:27:08.971Z"
   },
   {
    "duration": 6,
    "start_time": "2024-11-03T20:28:11.998Z"
   },
   {
    "duration": 6,
    "start_time": "2024-11-03T20:28:31.927Z"
   },
   {
    "duration": 7,
    "start_time": "2024-11-03T20:28:43.807Z"
   },
   {
    "duration": 7,
    "start_time": "2024-11-03T20:29:12.829Z"
   },
   {
    "duration": 7,
    "start_time": "2024-11-03T20:29:33.770Z"
   },
   {
    "duration": 7,
    "start_time": "2024-11-03T20:29:43.591Z"
   },
   {
    "duration": 7,
    "start_time": "2024-11-03T20:29:52.627Z"
   },
   {
    "duration": 6,
    "start_time": "2024-11-03T20:35:03.338Z"
   },
   {
    "duration": 6,
    "start_time": "2024-11-03T20:35:21.335Z"
   },
   {
    "duration": 6,
    "start_time": "2024-11-03T20:35:34.118Z"
   },
   {
    "duration": 6,
    "start_time": "2024-11-03T20:35:47.535Z"
   },
   {
    "duration": 2511,
    "start_time": "2024-11-04T00:18:37.211Z"
   },
   {
    "duration": 35,
    "start_time": "2024-11-04T00:18:39.726Z"
   },
   {
    "duration": 23,
    "start_time": "2024-11-04T00:18:39.763Z"
   },
   {
    "duration": 3,
    "start_time": "2024-11-04T00:18:39.788Z"
   },
   {
    "duration": 21,
    "start_time": "2024-11-04T00:18:39.795Z"
   },
   {
    "duration": 25,
    "start_time": "2024-11-04T00:18:39.832Z"
   },
   {
    "duration": 19,
    "start_time": "2024-11-04T00:18:39.859Z"
   },
   {
    "duration": 24,
    "start_time": "2024-11-04T00:18:39.880Z"
   },
   {
    "duration": 11,
    "start_time": "2024-11-04T00:18:39.932Z"
   },
   {
    "duration": 19,
    "start_time": "2024-11-04T00:18:39.946Z"
   },
   {
    "duration": 20,
    "start_time": "2024-11-04T00:18:39.967Z"
   },
   {
    "duration": 312,
    "start_time": "2024-11-04T00:18:39.988Z"
   },
   {
    "duration": 273,
    "start_time": "2024-11-04T00:18:40.302Z"
   },
   {
    "duration": 249,
    "start_time": "2024-11-04T00:18:40.579Z"
   },
   {
    "duration": 10,
    "start_time": "2024-11-04T00:18:40.830Z"
   },
   {
    "duration": 568,
    "start_time": "2024-11-04T00:18:40.842Z"
   },
   {
    "duration": 164,
    "start_time": "2024-11-04T00:18:41.412Z"
   },
   {
    "duration": 166,
    "start_time": "2024-11-04T00:18:41.578Z"
   },
   {
    "duration": 7,
    "start_time": "2024-11-04T00:18:41.745Z"
   },
   {
    "duration": 242,
    "start_time": "2024-11-04T00:18:41.754Z"
   },
   {
    "duration": 195,
    "start_time": "2024-11-04T00:18:41.998Z"
   },
   {
    "duration": 270,
    "start_time": "2024-11-04T00:18:42.195Z"
   },
   {
    "duration": 232,
    "start_time": "2024-11-04T00:18:42.467Z"
   },
   {
    "duration": 191,
    "start_time": "2024-11-04T00:18:42.701Z"
   },
   {
    "duration": 339,
    "start_time": "2024-11-04T00:18:42.894Z"
   },
   {
    "duration": 0,
    "start_time": "2024-11-04T00:18:43.235Z"
   },
   {
    "duration": 2533,
    "start_time": "2024-11-04T04:17:39.682Z"
   },
   {
    "duration": 36,
    "start_time": "2024-11-04T04:17:42.218Z"
   },
   {
    "duration": 22,
    "start_time": "2024-11-04T04:17:42.256Z"
   },
   {
    "duration": 3,
    "start_time": "2024-11-04T04:17:42.281Z"
   },
   {
    "duration": 17,
    "start_time": "2024-11-04T04:17:42.286Z"
   },
   {
    "duration": 41,
    "start_time": "2024-11-04T04:17:42.305Z"
   },
   {
    "duration": 19,
    "start_time": "2024-11-04T04:17:42.348Z"
   },
   {
    "duration": 21,
    "start_time": "2024-11-04T04:17:42.369Z"
   },
   {
    "duration": 36,
    "start_time": "2024-11-04T04:17:42.391Z"
   },
   {
    "duration": 19,
    "start_time": "2024-11-04T04:17:42.431Z"
   },
   {
    "duration": 21,
    "start_time": "2024-11-04T04:17:42.452Z"
   },
   {
    "duration": 307,
    "start_time": "2024-11-04T04:17:42.475Z"
   },
   {
    "duration": 249,
    "start_time": "2024-11-04T04:17:42.783Z"
   },
   {
    "duration": 271,
    "start_time": "2024-11-04T04:17:43.034Z"
   },
   {
    "duration": 11,
    "start_time": "2024-11-04T04:17:43.306Z"
   },
   {
    "duration": 566,
    "start_time": "2024-11-04T04:17:43.319Z"
   },
   {
    "duration": 173,
    "start_time": "2024-11-04T04:17:43.887Z"
   },
   {
    "duration": 165,
    "start_time": "2024-11-04T04:17:44.061Z"
   },
   {
    "duration": 6,
    "start_time": "2024-11-04T04:17:44.228Z"
   },
   {
    "duration": 229,
    "start_time": "2024-11-04T04:17:44.236Z"
   },
   {
    "duration": 193,
    "start_time": "2024-11-04T04:17:44.467Z"
   },
   {
    "duration": 277,
    "start_time": "2024-11-04T04:17:44.662Z"
   },
   {
    "duration": 241,
    "start_time": "2024-11-04T04:17:44.941Z"
   },
   {
    "duration": 188,
    "start_time": "2024-11-04T04:17:45.184Z"
   },
   {
    "duration": 310,
    "start_time": "2024-11-04T04:17:45.374Z"
   },
   {
    "duration": 0,
    "start_time": "2024-11-04T04:17:45.685Z"
   },
   {
    "duration": 2621,
    "start_time": "2024-11-04T23:54:26.604Z"
   },
   {
    "duration": 46,
    "start_time": "2024-11-04T23:54:29.227Z"
   },
   {
    "duration": 31,
    "start_time": "2024-11-04T23:54:29.275Z"
   },
   {
    "duration": 4,
    "start_time": "2024-11-04T23:54:29.314Z"
   },
   {
    "duration": 25,
    "start_time": "2024-11-04T23:54:29.321Z"
   },
   {
    "duration": 27,
    "start_time": "2024-11-04T23:54:29.348Z"
   },
   {
    "duration": 54,
    "start_time": "2024-11-04T23:54:29.377Z"
   },
   {
    "duration": 31,
    "start_time": "2024-11-04T23:54:29.433Z"
   },
   {
    "duration": 19,
    "start_time": "2024-11-04T23:54:29.465Z"
   },
   {
    "duration": 27,
    "start_time": "2024-11-04T23:54:29.512Z"
   },
   {
    "duration": 22,
    "start_time": "2024-11-04T23:54:29.541Z"
   },
   {
    "duration": 359,
    "start_time": "2024-11-04T23:54:29.564Z"
   },
   {
    "duration": 276,
    "start_time": "2024-11-04T23:54:29.925Z"
   },
   {
    "duration": 288,
    "start_time": "2024-11-04T23:54:30.204Z"
   },
   {
    "duration": 13,
    "start_time": "2024-11-04T23:54:30.495Z"
   },
   {
    "duration": 579,
    "start_time": "2024-11-04T23:54:30.510Z"
   },
   {
    "duration": 168,
    "start_time": "2024-11-04T23:54:31.092Z"
   },
   {
    "duration": 202,
    "start_time": "2024-11-04T23:54:31.262Z"
   },
   {
    "duration": 7,
    "start_time": "2024-11-04T23:54:31.467Z"
   },
   {
    "duration": 343,
    "start_time": "2024-11-04T23:54:31.476Z"
   },
   {
    "duration": 208,
    "start_time": "2024-11-04T23:54:31.821Z"
   },
   {
    "duration": 334,
    "start_time": "2024-11-04T23:54:32.032Z"
   },
   {
    "duration": 261,
    "start_time": "2024-11-04T23:54:32.368Z"
   },
   {
    "duration": 267,
    "start_time": "2024-11-04T23:54:32.635Z"
   },
   {
    "duration": 334,
    "start_time": "2024-11-04T23:54:32.904Z"
   },
   {
    "duration": 0,
    "start_time": "2024-11-04T23:54:33.239Z"
   },
   {
    "duration": 182,
    "start_time": "2024-11-04T23:55:29.923Z"
   },
   {
    "duration": 149,
    "start_time": "2024-11-04T23:56:04.114Z"
   },
   {
    "duration": 180,
    "start_time": "2024-11-04T23:56:13.980Z"
   },
   {
    "duration": 16,
    "start_time": "2024-11-04T23:58:54.156Z"
   },
   {
    "duration": 172,
    "start_time": "2024-11-04T23:59:20.771Z"
   },
   {
    "duration": 151,
    "start_time": "2024-11-04T23:59:37.461Z"
   },
   {
    "duration": 165,
    "start_time": "2024-11-04T23:59:49.583Z"
   },
   {
    "duration": 485,
    "start_time": "2024-11-05T00:06:03.132Z"
   },
   {
    "duration": 73,
    "start_time": "2024-11-05T00:06:48.198Z"
   },
   {
    "duration": 568,
    "start_time": "2024-11-05T00:09:27.490Z"
   },
   {
    "duration": 438,
    "start_time": "2024-11-05T00:11:38.256Z"
   },
   {
    "duration": 15,
    "start_time": "2024-11-05T00:12:31.984Z"
   },
   {
    "duration": 7,
    "start_time": "2024-11-05T00:12:48.518Z"
   },
   {
    "duration": 17,
    "start_time": "2024-11-05T00:17:10.879Z"
   },
   {
    "duration": 7,
    "start_time": "2024-11-05T00:17:31.356Z"
   },
   {
    "duration": 755,
    "start_time": "2024-11-05T00:18:07.201Z"
   },
   {
    "duration": 25,
    "start_time": "2024-11-05T00:18:07.960Z"
   },
   {
    "duration": 34,
    "start_time": "2024-11-05T00:18:07.986Z"
   },
   {
    "duration": 6,
    "start_time": "2024-11-05T00:18:08.022Z"
   },
   {
    "duration": 24,
    "start_time": "2024-11-05T00:18:08.031Z"
   },
   {
    "duration": 55,
    "start_time": "2024-11-05T00:18:08.057Z"
   },
   {
    "duration": 19,
    "start_time": "2024-11-05T00:18:08.115Z"
   },
   {
    "duration": 23,
    "start_time": "2024-11-05T00:18:08.136Z"
   },
   {
    "duration": 11,
    "start_time": "2024-11-05T00:18:08.162Z"
   },
   {
    "duration": 50,
    "start_time": "2024-11-05T00:18:08.174Z"
   },
   {
    "duration": 27,
    "start_time": "2024-11-05T00:18:08.226Z"
   },
   {
    "duration": 310,
    "start_time": "2024-11-05T00:18:08.255Z"
   },
   {
    "duration": 287,
    "start_time": "2024-11-05T00:18:08.568Z"
   },
   {
    "duration": 349,
    "start_time": "2024-11-05T00:18:08.859Z"
   },
   {
    "duration": 11,
    "start_time": "2024-11-05T00:18:09.211Z"
   },
   {
    "duration": 529,
    "start_time": "2024-11-05T00:18:09.224Z"
   },
   {
    "duration": 183,
    "start_time": "2024-11-05T00:18:09.755Z"
   },
   {
    "duration": 186,
    "start_time": "2024-11-05T00:18:09.939Z"
   },
   {
    "duration": 7,
    "start_time": "2024-11-05T00:18:10.127Z"
   },
   {
    "duration": 245,
    "start_time": "2024-11-05T00:18:10.136Z"
   },
   {
    "duration": 195,
    "start_time": "2024-11-05T00:18:10.384Z"
   },
   {
    "duration": 537,
    "start_time": "2024-11-05T00:18:10.581Z"
   },
   {
    "duration": 275,
    "start_time": "2024-11-05T00:18:11.120Z"
   },
   {
    "duration": 239,
    "start_time": "2024-11-05T00:18:11.397Z"
   },
   {
    "duration": 199,
    "start_time": "2024-11-05T00:18:11.638Z"
   },
   {
    "duration": 6,
    "start_time": "2024-11-05T00:18:11.840Z"
   },
   {
    "duration": 7,
    "start_time": "2024-11-05T00:18:11.849Z"
   },
   {
    "duration": 7,
    "start_time": "2024-11-05T00:28:42.582Z"
   },
   {
    "duration": 6,
    "start_time": "2024-11-05T00:30:02.607Z"
   },
   {
    "duration": 808,
    "start_time": "2024-11-05T01:10:53.048Z"
   },
   {
    "duration": 27,
    "start_time": "2024-11-05T01:10:53.860Z"
   },
   {
    "duration": 34,
    "start_time": "2024-11-05T01:10:53.889Z"
   },
   {
    "duration": 4,
    "start_time": "2024-11-05T01:10:53.925Z"
   },
   {
    "duration": 18,
    "start_time": "2024-11-05T01:10:53.933Z"
   },
   {
    "duration": 25,
    "start_time": "2024-11-05T01:10:53.953Z"
   },
   {
    "duration": 49,
    "start_time": "2024-11-05T01:10:53.980Z"
   },
   {
    "duration": 23,
    "start_time": "2024-11-05T01:10:54.031Z"
   },
   {
    "duration": 13,
    "start_time": "2024-11-05T01:10:54.055Z"
   },
   {
    "duration": 50,
    "start_time": "2024-11-05T01:10:54.070Z"
   },
   {
    "duration": 21,
    "start_time": "2024-11-05T01:10:54.122Z"
   },
   {
    "duration": 319,
    "start_time": "2024-11-05T01:10:54.145Z"
   },
   {
    "duration": 273,
    "start_time": "2024-11-05T01:10:54.466Z"
   },
   {
    "duration": 326,
    "start_time": "2024-11-05T01:10:54.742Z"
   },
   {
    "duration": 11,
    "start_time": "2024-11-05T01:10:55.070Z"
   },
   {
    "duration": 538,
    "start_time": "2024-11-05T01:10:55.082Z"
   },
   {
    "duration": 179,
    "start_time": "2024-11-05T01:10:55.622Z"
   },
   {
    "duration": 179,
    "start_time": "2024-11-05T01:10:55.803Z"
   },
   {
    "duration": 5,
    "start_time": "2024-11-05T01:10:55.984Z"
   },
   {
    "duration": 233,
    "start_time": "2024-11-05T01:10:55.991Z"
   },
   {
    "duration": 195,
    "start_time": "2024-11-05T01:10:56.227Z"
   },
   {
    "duration": 531,
    "start_time": "2024-11-05T01:10:56.424Z"
   },
   {
    "duration": 279,
    "start_time": "2024-11-05T01:10:56.957Z"
   },
   {
    "duration": 237,
    "start_time": "2024-11-05T01:10:57.238Z"
   },
   {
    "duration": 199,
    "start_time": "2024-11-05T01:10:57.478Z"
   },
   {
    "duration": 6,
    "start_time": "2024-11-05T01:10:57.679Z"
   },
   {
    "duration": 28,
    "start_time": "2024-11-05T01:10:57.687Z"
   },
   {
    "duration": 2545,
    "start_time": "2024-11-05T05:16:36.690Z"
   },
   {
    "duration": 33,
    "start_time": "2024-11-05T05:16:39.238Z"
   },
   {
    "duration": 22,
    "start_time": "2024-11-05T05:16:39.272Z"
   },
   {
    "duration": 3,
    "start_time": "2024-11-05T05:16:39.296Z"
   },
   {
    "duration": 17,
    "start_time": "2024-11-05T05:16:39.301Z"
   },
   {
    "duration": 24,
    "start_time": "2024-11-05T05:16:39.320Z"
   },
   {
    "duration": 19,
    "start_time": "2024-11-05T05:16:39.371Z"
   },
   {
    "duration": 23,
    "start_time": "2024-11-05T05:16:39.392Z"
   },
   {
    "duration": 11,
    "start_time": "2024-11-05T05:16:39.418Z"
   },
   {
    "duration": 48,
    "start_time": "2024-11-05T05:16:39.431Z"
   },
   {
    "duration": 21,
    "start_time": "2024-11-05T05:16:39.481Z"
   },
   {
    "duration": 304,
    "start_time": "2024-11-05T05:16:39.504Z"
   },
   {
    "duration": 262,
    "start_time": "2024-11-05T05:16:39.811Z"
   },
   {
    "duration": 232,
    "start_time": "2024-11-05T05:16:40.078Z"
   },
   {
    "duration": 11,
    "start_time": "2024-11-05T05:16:40.312Z"
   },
   {
    "duration": 568,
    "start_time": "2024-11-05T05:16:40.325Z"
   },
   {
    "duration": 181,
    "start_time": "2024-11-05T05:16:40.894Z"
   },
   {
    "duration": 176,
    "start_time": "2024-11-05T05:16:41.077Z"
   },
   {
    "duration": 15,
    "start_time": "2024-11-05T05:16:41.255Z"
   },
   {
    "duration": 223,
    "start_time": "2024-11-05T05:16:41.272Z"
   },
   {
    "duration": 192,
    "start_time": "2024-11-05T05:16:41.497Z"
   },
   {
    "duration": 448,
    "start_time": "2024-11-05T05:16:41.691Z"
   },
   {
    "duration": 275,
    "start_time": "2024-11-05T05:16:42.141Z"
   },
   {
    "duration": 299,
    "start_time": "2024-11-05T05:16:42.418Z"
   },
   {
    "duration": 188,
    "start_time": "2024-11-05T05:16:42.719Z"
   },
   {
    "duration": 6,
    "start_time": "2024-11-05T05:16:42.910Z"
   },
   {
    "duration": 6,
    "start_time": "2024-11-05T05:16:42.918Z"
   },
   {
    "duration": 172,
    "start_time": "2024-11-05T20:57:40.954Z"
   },
   {
    "duration": 2738,
    "start_time": "2024-11-05T20:58:05.556Z"
   },
   {
    "duration": 62,
    "start_time": "2024-11-05T20:58:08.296Z"
   },
   {
    "duration": 23,
    "start_time": "2024-11-05T20:58:08.360Z"
   },
   {
    "duration": 3,
    "start_time": "2024-11-05T20:58:08.385Z"
   },
   {
    "duration": 16,
    "start_time": "2024-11-05T20:58:08.391Z"
   },
   {
    "duration": 28,
    "start_time": "2024-11-05T20:58:08.421Z"
   },
   {
    "duration": 18,
    "start_time": "2024-11-05T20:58:08.450Z"
   },
   {
    "duration": 22,
    "start_time": "2024-11-05T20:58:08.470Z"
   },
   {
    "duration": 20,
    "start_time": "2024-11-05T20:58:08.494Z"
   },
   {
    "duration": 25,
    "start_time": "2024-11-05T20:58:08.516Z"
   },
   {
    "duration": 20,
    "start_time": "2024-11-05T20:58:08.542Z"
   },
   {
    "duration": 322,
    "start_time": "2024-11-05T20:58:08.564Z"
   },
   {
    "duration": 267,
    "start_time": "2024-11-05T20:58:08.888Z"
   },
   {
    "duration": 276,
    "start_time": "2024-11-05T20:58:09.158Z"
   },
   {
    "duration": 11,
    "start_time": "2024-11-05T20:58:09.436Z"
   },
   {
    "duration": 620,
    "start_time": "2024-11-05T20:58:09.448Z"
   },
   {
    "duration": 201,
    "start_time": "2024-11-05T20:58:10.070Z"
   },
   {
    "duration": 182,
    "start_time": "2024-11-05T20:58:10.273Z"
   },
   {
    "duration": 7,
    "start_time": "2024-11-05T20:58:10.457Z"
   },
   {
    "duration": 239,
    "start_time": "2024-11-05T20:58:10.465Z"
   },
   {
    "duration": 194,
    "start_time": "2024-11-05T20:58:10.708Z"
   },
   {
    "duration": 474,
    "start_time": "2024-11-05T20:58:10.908Z"
   },
   {
    "duration": 286,
    "start_time": "2024-11-05T20:58:11.384Z"
   },
   {
    "duration": 311,
    "start_time": "2024-11-05T20:58:11.673Z"
   },
   {
    "duration": 197,
    "start_time": "2024-11-05T20:58:11.986Z"
   },
   {
    "duration": 682,
    "start_time": "2024-11-05T20:58:12.185Z"
   },
   {
    "duration": 0,
    "start_time": "2024-11-05T20:58:12.869Z"
   },
   {
    "duration": 7,
    "start_time": "2024-11-05T20:58:55.056Z"
   },
   {
    "duration": 18,
    "start_time": "2024-11-05T20:59:31.617Z"
   },
   {
    "duration": 51,
    "start_time": "2024-11-05T20:59:43.959Z"
   },
   {
    "duration": 7,
    "start_time": "2024-11-05T20:59:58.317Z"
   },
   {
    "duration": 18,
    "start_time": "2024-11-05T21:02:50.738Z"
   },
   {
    "duration": 17,
    "start_time": "2024-11-05T21:03:22.778Z"
   },
   {
    "duration": 7,
    "start_time": "2024-11-05T21:07:13.542Z"
   },
   {
    "duration": 7,
    "start_time": "2024-11-05T21:07:44.660Z"
   },
   {
    "duration": 8,
    "start_time": "2024-11-05T21:08:26.236Z"
   },
   {
    "duration": 8,
    "start_time": "2024-11-05T21:09:35.757Z"
   },
   {
    "duration": 6,
    "start_time": "2024-11-05T21:09:55.245Z"
   },
   {
    "duration": 7,
    "start_time": "2024-11-05T21:10:06.746Z"
   },
   {
    "duration": 748,
    "start_time": "2024-11-05T21:10:40.134Z"
   },
   {
    "duration": 42,
    "start_time": "2024-11-05T21:10:40.886Z"
   },
   {
    "duration": 22,
    "start_time": "2024-11-05T21:10:40.936Z"
   },
   {
    "duration": 4,
    "start_time": "2024-11-05T21:10:40.960Z"
   },
   {
    "duration": 18,
    "start_time": "2024-11-05T21:10:40.967Z"
   },
   {
    "duration": 49,
    "start_time": "2024-11-05T21:10:40.986Z"
   },
   {
    "duration": 18,
    "start_time": "2024-11-05T21:10:41.038Z"
   },
   {
    "duration": 22,
    "start_time": "2024-11-05T21:10:41.058Z"
   },
   {
    "duration": 11,
    "start_time": "2024-11-05T21:10:41.082Z"
   },
   {
    "duration": 54,
    "start_time": "2024-11-05T21:10:41.094Z"
   },
   {
    "duration": 21,
    "start_time": "2024-11-05T21:10:41.150Z"
   },
   {
    "duration": 287,
    "start_time": "2024-11-05T21:10:41.173Z"
   },
   {
    "duration": 270,
    "start_time": "2024-11-05T21:10:41.462Z"
   },
   {
    "duration": 311,
    "start_time": "2024-11-05T21:10:41.735Z"
   },
   {
    "duration": 10,
    "start_time": "2024-11-05T21:10:42.048Z"
   },
   {
    "duration": 583,
    "start_time": "2024-11-05T21:10:42.060Z"
   },
   {
    "duration": 174,
    "start_time": "2024-11-05T21:10:42.645Z"
   },
   {
    "duration": 173,
    "start_time": "2024-11-05T21:10:42.823Z"
   },
   {
    "duration": 15,
    "start_time": "2024-11-05T21:10:42.997Z"
   },
   {
    "duration": 236,
    "start_time": "2024-11-05T21:10:43.029Z"
   },
   {
    "duration": 196,
    "start_time": "2024-11-05T21:10:43.267Z"
   },
   {
    "duration": 519,
    "start_time": "2024-11-05T21:10:43.465Z"
   },
   {
    "duration": 282,
    "start_time": "2024-11-05T21:10:43.989Z"
   },
   {
    "duration": 267,
    "start_time": "2024-11-05T21:10:44.273Z"
   },
   {
    "duration": 184,
    "start_time": "2024-11-05T21:10:44.542Z"
   },
   {
    "duration": 7,
    "start_time": "2024-11-05T21:10:44.728Z"
   },
   {
    "duration": 6,
    "start_time": "2024-11-05T21:10:44.736Z"
   },
   {
    "duration": 660,
    "start_time": "2024-11-05T21:11:19.842Z"
   },
   {
    "duration": 8,
    "start_time": "2024-11-05T21:11:35.931Z"
   }
  ],
  "kernelspec": {
   "display_name": "Python 3 (ipykernel)",
   "language": "python",
   "name": "python3"
  },
  "language_info": {
   "codemirror_mode": {
    "name": "ipython",
    "version": 3
   },
   "file_extension": ".py",
   "mimetype": "text/x-python",
   "name": "python",
   "nbconvert_exporter": "python",
   "pygments_lexer": "ipython3",
   "version": "3.9.19"
  },
  "toc": {
   "base_numbering": 1,
   "nav_menu": {},
   "number_sections": true,
   "sideBar": true,
   "skip_h1_title": true,
   "title_cell": "Table of Contents",
   "title_sidebar": "Contents",
   "toc_cell": false,
   "toc_position": {},
   "toc_section_display": true,
   "toc_window_display": false
  }
 },
 "nbformat": 4,
 "nbformat_minor": 2
}
